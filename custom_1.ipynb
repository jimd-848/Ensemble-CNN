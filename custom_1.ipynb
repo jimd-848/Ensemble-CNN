{
 "metadata": {
  "language_info": {
   "codemirror_mode": {
    "name": "ipython",
    "version": 3
   },
   "file_extension": ".py",
   "mimetype": "text/x-python",
   "name": "python",
   "nbconvert_exporter": "python",
   "pygments_lexer": "ipython3",
   "version": "3.8.8-final"
  },
  "orig_nbformat": 2,
  "kernelspec": {
   "name": "python3",
   "display_name": "Python 3.8.8 64-bit ('base': conda)",
   "metadata": {
    "interpreter": {
     "hash": "b10adc8b4b24ff954d99c62f6bf1e45e0f3a936f77a846b176af4c6827cb0e64"
    }
   }
  }
 },
 "nbformat": 4,
 "nbformat_minor": 2,
 "cells": [
  {
   "cell_type": "code",
   "execution_count": 1,
   "metadata": {},
   "outputs": [],
   "source": [
    "from tensorflow import keras\n",
    "from tensorflow.keras import layers\n",
    "from tensorflow.config import list_physical_devices\n",
    "\n",
    "import utils"
   ]
  },
  {
   "cell_type": "code",
   "execution_count": 2,
   "metadata": {},
   "outputs": [
    {
     "output_type": "execute_result",
     "data": {
      "text/plain": [
       "[PhysicalDevice(name='/physical_device:GPU:0', device_type='GPU')]"
      ]
     },
     "metadata": {},
     "execution_count": 2
    }
   ],
   "source": [
    "list_physical_devices('GPU')"
   ]
  },
  {
   "cell_type": "code",
   "execution_count": 3,
   "metadata": {},
   "outputs": [],
   "source": [
    "trainX, trainY, testX, testY = utils.load_dataset()"
   ]
  },
  {
   "cell_type": "code",
   "execution_count": 4,
   "metadata": {},
   "outputs": [
    {
     "output_type": "execute_result",
     "data": {
      "text/plain": [
       "(50000, 32, 32, 3)"
      ]
     },
     "metadata": {},
     "execution_count": 4
    }
   ],
   "source": [
    "trainX.shape"
   ]
  },
  {
   "cell_type": "code",
   "execution_count": 5,
   "metadata": {},
   "outputs": [],
   "source": [
    "def custom_1():\n",
    "    inputs = keras.Input(shape=(32,32,3))\n",
    "\n",
    "    x = layers.Conv2D(64, (3,3), activation='relu', padding='same')(inputs)\n",
    "    x = layers.MaxPool2D((2,2))(x)\n",
    "    x = layers.BatchNormalization()(x)\n",
    "\n",
    "    x = layers.Conv2D(128, (3,3), activation='relu', padding='same')(x)\n",
    "    x = layers.MaxPool2D((2,2))(x)\n",
    "    x = layers.BatchNormalization()(x)\n",
    "\n",
    "    x = layers.Conv2D(256, (3,3), activation='relu', padding='same')(x)\n",
    "    x = layers.MaxPool2D((2,2))(x)\n",
    "    x = layers.BatchNormalization()(x)\n",
    "\n",
    "    x = layers.Conv2D(512, (3,3), activation='relu', padding='same')(x)\n",
    "    x = layers.MaxPool2D((2,2))(x)\n",
    "    x = layers.BatchNormalization()(x)\n",
    "\n",
    "    x = layers.Flatten()(x)\n",
    "\n",
    "    x = layers.Dense(128, activation='relu')(x)\n",
    "    x = layers.Dropout(0.3)(x)\n",
    "    x = layers.BatchNormalization()(x)\n",
    "    \n",
    "    x = layers.Dense(256, activation='relu')(x)\n",
    "    x = layers.Dropout(0.3)(x)\n",
    "    x = layers.BatchNormalization()(x)\n",
    "\n",
    "    x = layers.Dense(512, activation='relu')(x)\n",
    "    x = layers.Dropout(0.3)(x)\n",
    "    x = layers.BatchNormalization()(x)\n",
    "\n",
    "    x = layers.Dense(1024, activation='relu')(x)\n",
    "    x = layers.Dropout(0.3)(x)\n",
    "    x = layers.BatchNormalization()(x)\n",
    "\n",
    "    outputs = layers.Dense(10, activation='softmax')(x)\n",
    "    \n",
    "    model = keras.Model(inputs=inputs, outputs=outputs, name=\"custom_1\")\n",
    "    model.compile(optimizer='Adam', loss='categorical_crossentropy', metrics=['categorical_accuracy', keras.metrics.AUC()])\n",
    "    return model"
   ]
  },
  {
   "cell_type": "code",
   "execution_count": 6,
   "metadata": {},
   "outputs": [],
   "source": [
    "callback = keras.callbacks.ModelCheckpoint('models/custom_1', monitor='val_loss', save_best_only=True)"
   ]
  },
  {
   "cell_type": "code",
   "execution_count": 7,
   "metadata": {
    "tags": [
     "outputPrepend"
    ]
   },
   "outputs": [
    {
     "output_type": "stream",
     "name": "stdout",
     "text": [
      "7 - val_loss: 3.9860 - val_categorical_accuracy: 0.1000 - val_auc: 0.5172\n",
      "INFO:tensorflow:Assets written to: models/custom_1/assets\n",
      "Epoch 2/100\n",
      "98/98 [==============================] - 2s 17ms/step - loss: 1.2576 - categorical_accuracy: 0.5480 - auc: 0.9107 - val_loss: 6.3349 - val_categorical_accuracy: 0.1001 - val_auc: 0.5097\n",
      "Epoch 3/100\n",
      "98/98 [==============================] - 2s 19ms/step - loss: 0.9300 - categorical_accuracy: 0.6743 - auc: 0.9503 - val_loss: 4.7712 - val_categorical_accuracy: 0.1144 - val_auc: 0.5254\n",
      "Epoch 4/100\n",
      "98/98 [==============================] - 2s 20ms/step - loss: 0.7226 - categorical_accuracy: 0.7481 - auc: 0.9693 - val_loss: 4.9836 - val_categorical_accuracy: 0.1337 - val_auc: 0.5416\n",
      "Epoch 5/100\n",
      "98/98 [==============================] - 2s 19ms/step - loss: 0.5978 - categorical_accuracy: 0.7964 - auc: 0.9784 - val_loss: 5.9211 - val_categorical_accuracy: 0.1884 - val_auc: 0.5713\n",
      "Epoch 6/100\n",
      "98/98 [==============================] - 2s 19ms/step - loss: 0.4671 - categorical_accuracy: 0.8418 - auc: 0.9862 - val_loss: 3.2194 - val_categorical_accuracy: 0.3665 - val_auc: 0.7585\n",
      "INFO:tensorflow:Assets written to: models/custom_1/assets\n",
      "Epoch 7/100\n",
      "98/98 [==============================] - 2s 20ms/step - loss: 0.3731 - categorical_accuracy: 0.8755 - auc: 0.9906 - val_loss: 1.2263 - val_categorical_accuracy: 0.6535 - val_auc: 0.9297\n",
      "INFO:tensorflow:Assets written to: models/custom_1/assets\n",
      "Epoch 8/100\n",
      "98/98 [==============================] - 2s 20ms/step - loss: 0.2981 - categorical_accuracy: 0.8995 - auc: 0.9937 - val_loss: 0.7924 - val_categorical_accuracy: 0.7741 - val_auc: 0.9635\n",
      "INFO:tensorflow:Assets written to: models/custom_1/assets\n",
      "Epoch 9/100\n",
      "98/98 [==============================] - 2s 20ms/step - loss: 0.2448 - categorical_accuracy: 0.9179 - auc: 0.9953 - val_loss: 0.8576 - val_categorical_accuracy: 0.7776 - val_auc: 0.9587\n",
      "Epoch 10/100\n",
      "98/98 [==============================] - 2s 20ms/step - loss: 0.1937 - categorical_accuracy: 0.9354 - auc: 0.9968 - val_loss: 0.9641 - val_categorical_accuracy: 0.7656 - val_auc: 0.9511\n",
      "Epoch 11/100\n",
      "98/98 [==============================] - 2s 20ms/step - loss: 0.1597 - categorical_accuracy: 0.9465 - auc: 0.9977 - val_loss: 0.9775 - val_categorical_accuracy: 0.7612 - val_auc: 0.9504\n",
      "Epoch 12/100\n",
      "98/98 [==============================] - 2s 20ms/step - loss: 0.1341 - categorical_accuracy: 0.9556 - auc: 0.9981 - val_loss: 1.0207 - val_categorical_accuracy: 0.7646 - val_auc: 0.9473\n",
      "Epoch 13/100\n",
      "98/98 [==============================] - 2s 20ms/step - loss: 0.1223 - categorical_accuracy: 0.9601 - auc: 0.9981 - val_loss: 0.9940 - val_categorical_accuracy: 0.7811 - val_auc: 0.9487\n",
      "Epoch 14/100\n",
      "98/98 [==============================] - 2s 20ms/step - loss: 0.0996 - categorical_accuracy: 0.9679 - auc: 0.9987 - val_loss: 1.0407 - val_categorical_accuracy: 0.7701 - val_auc: 0.9459\n",
      "Epoch 15/100\n",
      "98/98 [==============================] - 2s 19ms/step - loss: 0.0884 - categorical_accuracy: 0.9708 - auc: 0.9988 - val_loss: 1.0065 - val_categorical_accuracy: 0.7801 - val_auc: 0.9468\n",
      "Epoch 16/100\n",
      "98/98 [==============================] - 2s 19ms/step - loss: 0.0743 - categorical_accuracy: 0.9765 - auc: 0.9990 - val_loss: 1.0669 - val_categorical_accuracy: 0.7788 - val_auc: 0.9432\n",
      "Epoch 17/100\n",
      "98/98 [==============================] - 2s 20ms/step - loss: 0.0630 - categorical_accuracy: 0.9800 - auc: 0.9992 - val_loss: 1.0428 - val_categorical_accuracy: 0.7795 - val_auc: 0.9453\n",
      "Epoch 18/100\n",
      "98/98 [==============================] - 2s 19ms/step - loss: 0.0616 - categorical_accuracy: 0.9791 - auc: 0.9993 - val_loss: 1.2807 - val_categorical_accuracy: 0.7571 - val_auc: 0.9285\n",
      "Epoch 19/100\n",
      "98/98 [==============================] - 2s 20ms/step - loss: 0.0551 - categorical_accuracy: 0.9826 - auc: 0.9992 - val_loss: 1.2974 - val_categorical_accuracy: 0.7583 - val_auc: 0.9281\n",
      "Epoch 20/100\n",
      "98/98 [==============================] - 2s 19ms/step - loss: 0.0529 - categorical_accuracy: 0.9825 - auc: 0.9994 - val_loss: 1.1784 - val_categorical_accuracy: 0.7717 - val_auc: 0.9362\n",
      "Epoch 21/100\n",
      "98/98 [==============================] - 2s 19ms/step - loss: 0.0471 - categorical_accuracy: 0.9852 - auc: 0.9994 - val_loss: 1.1172 - val_categorical_accuracy: 0.7847 - val_auc: 0.9415\n",
      "Epoch 22/100\n",
      "98/98 [==============================] - 2s 19ms/step - loss: 0.0485 - categorical_accuracy: 0.9842 - auc: 0.9994 - val_loss: 1.2504 - val_categorical_accuracy: 0.7604 - val_auc: 0.9308\n",
      "Epoch 23/100\n",
      "98/98 [==============================] - 2s 19ms/step - loss: 0.0472 - categorical_accuracy: 0.9849 - auc: 0.9993 - val_loss: 1.1520 - val_categorical_accuracy: 0.7804 - val_auc: 0.9376\n",
      "Epoch 24/100\n",
      "98/98 [==============================] - 2s 19ms/step - loss: 0.0458 - categorical_accuracy: 0.9850 - auc: 0.9995 - val_loss: 1.1795 - val_categorical_accuracy: 0.7766 - val_auc: 0.9360\n",
      "Epoch 25/100\n",
      "98/98 [==============================] - 2s 20ms/step - loss: 0.0345 - categorical_accuracy: 0.9890 - auc: 0.9996 - val_loss: 1.1782 - val_categorical_accuracy: 0.7724 - val_auc: 0.9346\n",
      "Epoch 26/100\n",
      "98/98 [==============================] - 2s 20ms/step - loss: 0.0431 - categorical_accuracy: 0.9862 - auc: 0.9995 - val_loss: 1.5077 - val_categorical_accuracy: 0.7358 - val_auc: 0.9165\n",
      "Epoch 27/100\n",
      "98/98 [==============================] - 2s 19ms/step - loss: 0.0407 - categorical_accuracy: 0.9862 - auc: 0.9996 - val_loss: 1.2782 - val_categorical_accuracy: 0.7590 - val_auc: 0.9311\n",
      "Epoch 28/100\n",
      "98/98 [==============================] - 2s 19ms/step - loss: 0.0397 - categorical_accuracy: 0.9876 - auc: 0.9995 - val_loss: 1.1954 - val_categorical_accuracy: 0.7737 - val_auc: 0.9359\n",
      "Epoch 29/100\n",
      "98/98 [==============================] - 2s 19ms/step - loss: 0.0357 - categorical_accuracy: 0.9887 - auc: 0.9996 - val_loss: 1.2092 - val_categorical_accuracy: 0.7826 - val_auc: 0.9359\n",
      "Epoch 30/100\n",
      "98/98 [==============================] - 2s 19ms/step - loss: 0.0310 - categorical_accuracy: 0.9902 - auc: 0.9996 - val_loss: 1.5793 - val_categorical_accuracy: 0.7369 - val_auc: 0.9107\n",
      "Epoch 31/100\n",
      "98/98 [==============================] - 2s 19ms/step - loss: 0.0387 - categorical_accuracy: 0.9881 - auc: 0.9992 - val_loss: 1.2405 - val_categorical_accuracy: 0.7868 - val_auc: 0.9333\n",
      "Epoch 32/100\n",
      "98/98 [==============================] - 2s 19ms/step - loss: 0.0267 - categorical_accuracy: 0.9915 - auc: 0.9997 - val_loss: 1.3785 - val_categorical_accuracy: 0.7490 - val_auc: 0.9226\n",
      "Epoch 33/100\n",
      "98/98 [==============================] - 2s 19ms/step - loss: 0.0324 - categorical_accuracy: 0.9898 - auc: 0.9995 - val_loss: 1.3248 - val_categorical_accuracy: 0.7583 - val_auc: 0.9257\n",
      "Epoch 34/100\n",
      "98/98 [==============================] - 2s 19ms/step - loss: 0.0270 - categorical_accuracy: 0.9914 - auc: 0.9997 - val_loss: 1.5243 - val_categorical_accuracy: 0.7446 - val_auc: 0.9170\n",
      "Epoch 35/100\n",
      "98/98 [==============================] - 2s 19ms/step - loss: 0.0236 - categorical_accuracy: 0.9924 - auc: 0.9997 - val_loss: 1.3993 - val_categorical_accuracy: 0.7570 - val_auc: 0.9220\n",
      "Epoch 36/100\n",
      "98/98 [==============================] - 2s 19ms/step - loss: 0.0343 - categorical_accuracy: 0.9888 - auc: 0.9996 - val_loss: 1.3007 - val_categorical_accuracy: 0.7743 - val_auc: 0.9298\n",
      "Epoch 37/100\n",
      "98/98 [==============================] - 2s 19ms/step - loss: 0.0255 - categorical_accuracy: 0.9918 - auc: 0.9997 - val_loss: 1.2244 - val_categorical_accuracy: 0.7795 - val_auc: 0.9332\n",
      "Epoch 38/100\n",
      "98/98 [==============================] - 2s 19ms/step - loss: 0.0297 - categorical_accuracy: 0.9903 - auc: 0.9997 - val_loss: 1.3479 - val_categorical_accuracy: 0.7665 - val_auc: 0.9258\n",
      "Epoch 39/100\n",
      "98/98 [==============================] - 2s 20ms/step - loss: 0.0304 - categorical_accuracy: 0.9898 - auc: 0.9996 - val_loss: 1.2270 - val_categorical_accuracy: 0.7803 - val_auc: 0.9331\n",
      "Epoch 40/100\n",
      "98/98 [==============================] - 2s 20ms/step - loss: 0.0245 - categorical_accuracy: 0.9918 - auc: 0.9997 - val_loss: 1.2435 - val_categorical_accuracy: 0.7875 - val_auc: 0.9336\n",
      "Epoch 41/100\n",
      "98/98 [==============================] - 2s 20ms/step - loss: 0.0227 - categorical_accuracy: 0.9927 - auc: 0.9996 - val_loss: 1.2267 - val_categorical_accuracy: 0.7821 - val_auc: 0.9335\n",
      "Epoch 42/100\n",
      "98/98 [==============================] - 2s 20ms/step - loss: 0.0306 - categorical_accuracy: 0.9899 - auc: 0.9996 - val_loss: 1.1919 - val_categorical_accuracy: 0.7835 - val_auc: 0.9365\n",
      "Epoch 43/100\n",
      "98/98 [==============================] - 2s 20ms/step - loss: 0.0286 - categorical_accuracy: 0.9915 - auc: 0.9996 - val_loss: 1.4410 - val_categorical_accuracy: 0.7667 - val_auc: 0.9215\n",
      "Epoch 44/100\n",
      "98/98 [==============================] - 2s 19ms/step - loss: 0.0244 - categorical_accuracy: 0.9921 - auc: 0.9997 - val_loss: 1.4729 - val_categorical_accuracy: 0.7499 - val_auc: 0.9166\n",
      "Epoch 45/100\n",
      "98/98 [==============================] - 2s 21ms/step - loss: 0.0248 - categorical_accuracy: 0.9922 - auc: 0.9996 - val_loss: 1.4066 - val_categorical_accuracy: 0.7581 - val_auc: 0.9234\n",
      "Epoch 46/100\n",
      "98/98 [==============================] - 2s 21ms/step - loss: 0.0303 - categorical_accuracy: 0.9903 - auc: 0.9995 - val_loss: 1.3171 - val_categorical_accuracy: 0.7757 - val_auc: 0.9283\n",
      "Epoch 47/100\n",
      "98/98 [==============================] - 2s 21ms/step - loss: 0.0247 - categorical_accuracy: 0.9924 - auc: 0.9996 - val_loss: 1.3235 - val_categorical_accuracy: 0.7730 - val_auc: 0.9275\n",
      "Epoch 48/100\n",
      "98/98 [==============================] - 2s 21ms/step - loss: 0.0232 - categorical_accuracy: 0.9926 - auc: 0.9996 - val_loss: 1.2109 - val_categorical_accuracy: 0.7929 - val_auc: 0.9348\n",
      "Epoch 49/100\n",
      "98/98 [==============================] - 2s 20ms/step - loss: 0.0167 - categorical_accuracy: 0.9942 - auc: 0.9998 - val_loss: 1.5817 - val_categorical_accuracy: 0.7457 - val_auc: 0.9106\n",
      "Epoch 50/100\n",
      "98/98 [==============================] - 2s 20ms/step - loss: 0.0238 - categorical_accuracy: 0.9927 - auc: 0.9996 - val_loss: 1.6796 - val_categorical_accuracy: 0.7408 - val_auc: 0.9079\n",
      "Epoch 51/100\n",
      "98/98 [==============================] - 2s 20ms/step - loss: 0.0247 - categorical_accuracy: 0.9922 - auc: 0.9996 - val_loss: 1.3036 - val_categorical_accuracy: 0.7661 - val_auc: 0.9291\n",
      "Epoch 52/100\n",
      "98/98 [==============================] - 2s 20ms/step - loss: 0.0211 - categorical_accuracy: 0.9933 - auc: 0.9997 - val_loss: 1.4156 - val_categorical_accuracy: 0.7658 - val_auc: 0.9235\n",
      "Epoch 53/100\n",
      "98/98 [==============================] - 2s 20ms/step - loss: 0.0236 - categorical_accuracy: 0.9921 - auc: 0.9997 - val_loss: 1.3566 - val_categorical_accuracy: 0.7745 - val_auc: 0.9271\n",
      "Epoch 54/100\n",
      "98/98 [==============================] - 2s 20ms/step - loss: 0.0181 - categorical_accuracy: 0.9942 - auc: 0.9997 - val_loss: 1.4065 - val_categorical_accuracy: 0.7778 - val_auc: 0.9230\n",
      "Epoch 55/100\n",
      "98/98 [==============================] - 2s 20ms/step - loss: 0.0221 - categorical_accuracy: 0.9927 - auc: 0.9997 - val_loss: 1.4188 - val_categorical_accuracy: 0.7676 - val_auc: 0.9232\n",
      "Epoch 56/100\n",
      "98/98 [==============================] - 2s 20ms/step - loss: 0.0217 - categorical_accuracy: 0.9931 - auc: 0.9996 - val_loss: 1.3222 - val_categorical_accuracy: 0.7741 - val_auc: 0.9280\n",
      "Epoch 57/100\n",
      "98/98 [==============================] - 2s 20ms/step - loss: 0.0196 - categorical_accuracy: 0.9943 - auc: 0.9997 - val_loss: 1.2626 - val_categorical_accuracy: 0.7802 - val_auc: 0.9306\n",
      "Epoch 58/100\n",
      "98/98 [==============================] - 2s 20ms/step - loss: 0.0188 - categorical_accuracy: 0.9943 - auc: 0.9998 - val_loss: 1.5203 - val_categorical_accuracy: 0.7536 - val_auc: 0.9155\n",
      "Epoch 59/100\n",
      "98/98 [==============================] - 2s 20ms/step - loss: 0.0210 - categorical_accuracy: 0.9935 - auc: 0.9997 - val_loss: 1.1814 - val_categorical_accuracy: 0.7939 - val_auc: 0.9365\n",
      "Epoch 60/100\n",
      "98/98 [==============================] - 2s 20ms/step - loss: 0.0164 - categorical_accuracy: 0.9947 - auc: 0.9997 - val_loss: 1.5667 - val_categorical_accuracy: 0.7530 - val_auc: 0.9147\n",
      "Epoch 61/100\n",
      "98/98 [==============================] - 2s 20ms/step - loss: 0.0181 - categorical_accuracy: 0.9944 - auc: 0.9997 - val_loss: 1.4189 - val_categorical_accuracy: 0.7552 - val_auc: 0.9213\n",
      "Epoch 62/100\n",
      "98/98 [==============================] - 2s 20ms/step - loss: 0.0205 - categorical_accuracy: 0.9934 - auc: 0.9997 - val_loss: 1.3148 - val_categorical_accuracy: 0.7711 - val_auc: 0.9276\n",
      "Epoch 63/100\n",
      "98/98 [==============================] - 2s 20ms/step - loss: 0.0189 - categorical_accuracy: 0.9942 - auc: 0.9998 - val_loss: 1.4894 - val_categorical_accuracy: 0.7704 - val_auc: 0.9195\n",
      "Epoch 64/100\n",
      "98/98 [==============================] - 2s 20ms/step - loss: 0.0183 - categorical_accuracy: 0.9945 - auc: 0.9997 - val_loss: 1.3614 - val_categorical_accuracy: 0.7837 - val_auc: 0.9265\n",
      "Epoch 65/100\n",
      "98/98 [==============================] - 2s 20ms/step - loss: 0.0191 - categorical_accuracy: 0.9935 - auc: 0.9998 - val_loss: 1.2968 - val_categorical_accuracy: 0.7849 - val_auc: 0.9298\n",
      "Epoch 66/100\n",
      "98/98 [==============================] - 2s 20ms/step - loss: 0.0154 - categorical_accuracy: 0.9951 - auc: 0.9997 - val_loss: 1.2960 - val_categorical_accuracy: 0.7848 - val_auc: 0.9282\n",
      "Epoch 67/100\n",
      "98/98 [==============================] - 2s 20ms/step - loss: 0.0179 - categorical_accuracy: 0.9947 - auc: 0.9998 - val_loss: 1.3124 - val_categorical_accuracy: 0.7784 - val_auc: 0.9286\n",
      "Epoch 68/100\n",
      "98/98 [==============================] - 2s 20ms/step - loss: 0.0184 - categorical_accuracy: 0.9943 - auc: 0.9997 - val_loss: 1.4285 - val_categorical_accuracy: 0.7613 - val_auc: 0.9217\n",
      "Epoch 69/100\n",
      "98/98 [==============================] - 2s 20ms/step - loss: 0.0141 - categorical_accuracy: 0.9961 - auc: 0.9997 - val_loss: 1.3263 - val_categorical_accuracy: 0.7818 - val_auc: 0.9276\n",
      "Epoch 70/100\n",
      "98/98 [==============================] - 2s 20ms/step - loss: 0.0162 - categorical_accuracy: 0.9951 - auc: 0.9998 - val_loss: 1.3441 - val_categorical_accuracy: 0.7888 - val_auc: 0.9274\n",
      "Epoch 71/100\n",
      "98/98 [==============================] - 2s 21ms/step - loss: 0.0176 - categorical_accuracy: 0.9940 - auc: 0.9998 - val_loss: 1.3113 - val_categorical_accuracy: 0.7792 - val_auc: 0.9289\n",
      "Epoch 72/100\n",
      "98/98 [==============================] - 2s 20ms/step - loss: 0.0171 - categorical_accuracy: 0.9944 - auc: 0.9998 - val_loss: 1.6680 - val_categorical_accuracy: 0.7455 - val_auc: 0.9085\n",
      "Epoch 73/100\n",
      "98/98 [==============================] - 2s 20ms/step - loss: 0.0190 - categorical_accuracy: 0.9942 - auc: 0.9997 - val_loss: 1.3525 - val_categorical_accuracy: 0.7735 - val_auc: 0.9281\n",
      "Epoch 74/100\n",
      "98/98 [==============================] - 2s 21ms/step - loss: 0.0163 - categorical_accuracy: 0.9951 - auc: 0.9998 - val_loss: 1.2989 - val_categorical_accuracy: 0.7868 - val_auc: 0.9298\n",
      "Epoch 75/100\n",
      "98/98 [==============================] - 2s 21ms/step - loss: 0.0128 - categorical_accuracy: 0.9956 - auc: 0.9999 - val_loss: 1.2806 - val_categorical_accuracy: 0.7816 - val_auc: 0.9305\n",
      "Epoch 76/100\n",
      "98/98 [==============================] - 2s 20ms/step - loss: 0.0160 - categorical_accuracy: 0.9951 - auc: 0.9998 - val_loss: 1.2866 - val_categorical_accuracy: 0.7770 - val_auc: 0.9300\n",
      "Epoch 77/100\n",
      "98/98 [==============================] - 2s 20ms/step - loss: 0.0129 - categorical_accuracy: 0.9960 - auc: 0.9998 - val_loss: 1.2712 - val_categorical_accuracy: 0.7880 - val_auc: 0.9314\n",
      "Epoch 78/100\n",
      "98/98 [==============================] - 2s 20ms/step - loss: 0.0152 - categorical_accuracy: 0.9956 - auc: 0.9998 - val_loss: 1.5227 - val_categorical_accuracy: 0.7688 - val_auc: 0.9185\n",
      "Epoch 79/100\n",
      "98/98 [==============================] - 2s 20ms/step - loss: 0.0136 - categorical_accuracy: 0.9956 - auc: 0.9998 - val_loss: 1.2509 - val_categorical_accuracy: 0.7906 - val_auc: 0.9313\n",
      "Epoch 80/100\n",
      "98/98 [==============================] - 2s 20ms/step - loss: 0.0140 - categorical_accuracy: 0.9954 - auc: 0.9999 - val_loss: 1.4820 - val_categorical_accuracy: 0.7559 - val_auc: 0.9186\n",
      "Epoch 81/100\n",
      "98/98 [==============================] - 2s 20ms/step - loss: 0.0130 - categorical_accuracy: 0.9953 - auc: 0.9999 - val_loss: 1.3396 - val_categorical_accuracy: 0.7848 - val_auc: 0.9265\n",
      "Epoch 82/100\n",
      "98/98 [==============================] - 2s 19ms/step - loss: 0.0152 - categorical_accuracy: 0.9953 - auc: 0.9998 - val_loss: 1.3805 - val_categorical_accuracy: 0.7792 - val_auc: 0.9253\n",
      "Epoch 83/100\n",
      "98/98 [==============================] - 2s 19ms/step - loss: 0.0208 - categorical_accuracy: 0.9939 - auc: 0.9997 - val_loss: 1.2987 - val_categorical_accuracy: 0.7761 - val_auc: 0.9286\n",
      "Epoch 84/100\n",
      "98/98 [==============================] - 2s 20ms/step - loss: 0.0159 - categorical_accuracy: 0.9952 - auc: 0.9998 - val_loss: 1.2973 - val_categorical_accuracy: 0.7828 - val_auc: 0.9302\n",
      "Epoch 85/100\n",
      "98/98 [==============================] - 2s 20ms/step - loss: 0.0130 - categorical_accuracy: 0.9962 - auc: 0.9998 - val_loss: 1.3926 - val_categorical_accuracy: 0.7791 - val_auc: 0.9240\n",
      "Epoch 86/100\n",
      "98/98 [==============================] - 2s 21ms/step - loss: 0.0119 - categorical_accuracy: 0.9965 - auc: 0.9998 - val_loss: 1.4415 - val_categorical_accuracy: 0.7771 - val_auc: 0.9217\n",
      "Epoch 87/100\n",
      "98/98 [==============================] - 2s 20ms/step - loss: 0.0123 - categorical_accuracy: 0.9962 - auc: 0.9997 - val_loss: 1.3443 - val_categorical_accuracy: 0.7836 - val_auc: 0.9273\n",
      "Epoch 88/100\n",
      "98/98 [==============================] - 2s 20ms/step - loss: 0.0139 - categorical_accuracy: 0.9957 - auc: 0.9998 - val_loss: 1.3076 - val_categorical_accuracy: 0.7876 - val_auc: 0.9298\n",
      "Epoch 89/100\n",
      "98/98 [==============================] - 2s 20ms/step - loss: 0.0111 - categorical_accuracy: 0.9969 - auc: 0.9998 - val_loss: 1.4331 - val_categorical_accuracy: 0.7825 - val_auc: 0.9238\n",
      "Epoch 90/100\n",
      "98/98 [==============================] - 2s 20ms/step - loss: 0.0129 - categorical_accuracy: 0.9963 - auc: 0.9998 - val_loss: 1.3310 - val_categorical_accuracy: 0.7857 - val_auc: 0.9271\n",
      "Epoch 91/100\n",
      "98/98 [==============================] - 2s 19ms/step - loss: 0.0109 - categorical_accuracy: 0.9963 - auc: 0.9999 - val_loss: 1.2632 - val_categorical_accuracy: 0.8000 - val_auc: 0.9326\n",
      "Epoch 92/100\n",
      "98/98 [==============================] - 2s 20ms/step - loss: 0.0119 - categorical_accuracy: 0.9961 - auc: 0.9998 - val_loss: 1.3723 - val_categorical_accuracy: 0.7811 - val_auc: 0.9257\n",
      "Epoch 93/100\n",
      "98/98 [==============================] - 2s 19ms/step - loss: 0.0147 - categorical_accuracy: 0.9955 - auc: 0.9998 - val_loss: 1.3405 - val_categorical_accuracy: 0.7804 - val_auc: 0.9272\n",
      "Epoch 94/100\n",
      "98/98 [==============================] - 2s 19ms/step - loss: 0.0131 - categorical_accuracy: 0.9954 - auc: 0.9998 - val_loss: 1.3126 - val_categorical_accuracy: 0.7902 - val_auc: 0.9288\n",
      "Epoch 95/100\n",
      "98/98 [==============================] - 2s 20ms/step - loss: 0.0130 - categorical_accuracy: 0.9954 - auc: 0.9998 - val_loss: 1.4964 - val_categorical_accuracy: 0.7726 - val_auc: 0.9194\n",
      "Epoch 96/100\n",
      "98/98 [==============================] - 2s 20ms/step - loss: 0.0138 - categorical_accuracy: 0.9959 - auc: 0.9997 - val_loss: 1.2661 - val_categorical_accuracy: 0.7929 - val_auc: 0.9324\n",
      "Epoch 97/100\n",
      "98/98 [==============================] - 2s 20ms/step - loss: 0.0158 - categorical_accuracy: 0.9952 - auc: 0.9997 - val_loss: 1.2091 - val_categorical_accuracy: 0.7949 - val_auc: 0.9351\n",
      "Epoch 98/100\n",
      "98/98 [==============================] - 2s 20ms/step - loss: 0.0089 - categorical_accuracy: 0.9971 - auc: 1.0000 - val_loss: 1.4629 - val_categorical_accuracy: 0.7704 - val_auc: 0.9193\n",
      "Epoch 99/100\n",
      "98/98 [==============================] - 2s 20ms/step - loss: 0.0096 - categorical_accuracy: 0.9972 - auc: 0.9998 - val_loss: 1.2947 - val_categorical_accuracy: 0.7954 - val_auc: 0.9300\n",
      "Epoch 100/100\n",
      "98/98 [==============================] - 2s 19ms/step - loss: 0.0141 - categorical_accuracy: 0.9952 - auc: 0.9998 - val_loss: 1.2703 - val_categorical_accuracy: 0.7940 - val_auc: 0.9317\n"
     ]
    }
   ],
   "source": [
    "model = custom_1()\n",
    "history = model.fit(x=trainX, y=trainY, batch_size=512, epochs=100, callbacks=callback, validation_data=(testX, testY))"
   ]
  },
  {
   "cell_type": "code",
   "execution_count": 8,
   "metadata": {},
   "outputs": [],
   "source": [
    "best_model = keras.models.load_model('models/custom_1')"
   ]
  },
  {
   "cell_type": "code",
   "execution_count": 9,
   "metadata": {},
   "outputs": [
    {
     "output_type": "stream",
     "name": "stdout",
     "text": [
      "313/313 [==============================] - 23s 40ms/step - loss: 0.7924 - categorical_accuracy: 0.7741 - auc: 0.9635\n"
     ]
    },
    {
     "output_type": "execute_result",
     "data": {
      "text/plain": [
       "[0.792373538017273, 0.7741000056266785, 0.963496744632721]"
      ]
     },
     "metadata": {},
     "execution_count": 9
    }
   ],
   "source": [
    "best_model.evaluate(x=testX, y=testY)"
   ]
  },
  {
   "cell_type": "code",
   "execution_count": null,
   "metadata": {},
   "outputs": [],
   "source": [
    "#architecture: https://towardsdatascience.com/cifar-10-image-classification-in-tensorflow-5b501f7dc77c"
   ]
  }
 ]
}