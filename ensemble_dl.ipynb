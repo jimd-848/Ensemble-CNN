{
 "metadata": {
  "language_info": {
   "codemirror_mode": {
    "name": "ipython",
    "version": 3
   },
   "file_extension": ".py",
   "mimetype": "text/x-python",
   "name": "python",
   "nbconvert_exporter": "python",
   "pygments_lexer": "ipython3",
   "version": "3.8.8-final"
  },
  "orig_nbformat": 2,
  "kernelspec": {
   "name": "python3",
   "display_name": "Python 3.8.8 64-bit ('anaconda3': virtualenv)",
   "metadata": {
    "interpreter": {
     "hash": "b10adc8b4b24ff954d99c62f6bf1e45e0f3a936f77a846b176af4c6827cb0e64"
    }
   }
  }
 },
 "nbformat": 4,
 "nbformat_minor": 2,
 "cells": [
  {
   "cell_type": "code",
   "execution_count": 1,
   "metadata": {},
   "outputs": [],
   "source": [
    "from tensorflow import keras\n",
    "from tensorflow.keras import layers\n",
    "from tensorflow.config import list_physical_devices\n",
    "from tensorflow.image import ResizeMethod\n",
    "from tensorflow.image import resize_with_pad\n",
    "\n",
    "import utils"
   ]
  },
  {
   "cell_type": "code",
   "execution_count": 2,
   "metadata": {},
   "outputs": [],
   "source": [
    "trainX, trainY, testX, testY = utils.load_dataset()"
   ]
  },
  {
   "cell_type": "code",
   "execution_count": 3,
   "metadata": {},
   "outputs": [],
   "source": [
    "def ensemble_dl():\n",
    "    inputs = keras.Input(shape=(32,32,3))\n",
    "\n",
    "    all_models = utils.get_models('models')\n",
    "    all_model_output = []\n",
    "\n",
    "    counter = 0\n",
    "    for m in all_models:\n",
    "        m.trainable = False\n",
    "        all_model_output.append(m(inputs))\n",
    "        print(str(counter) + ' done')\n",
    "        counter += 1\n",
    "    \n",
    "    x = layers.concatenate(all_model_output)\n",
    "\n",
    "    x = layers.Dense(512, activation='relu')(x)\n",
    "    x = layers.Dropout(0.3)(x)\n",
    "    x = layers.BatchNormalization()(x)\n",
    "\n",
    "    x = layers.Dense(256, activation='relu')(x)\n",
    "    x = layers.Dropout(0.3)(x)\n",
    "    x = layers.BatchNormalization()(x)\n",
    "\n",
    "    x = layers.Dense(128, activation='relu')(x)\n",
    "    x = layers.Dropout(0.3)(x)\n",
    "    x = layers.BatchNormalization()(x)\n",
    "\n",
    "    x = layers.Dense(64, activation='relu')(x)\n",
    "    x = layers.Dropout(0.3)(x)\n",
    "    \n",
    "    outputs = layers.Dense(10, activation='softmax')(x)\n",
    "    \n",
    "    ensemble_model = keras.Model(inputs=inputs, outputs=outputs, name='ensemble_dl')\n",
    "    ensemble_model.compile(optimizer='Adam', loss='categorical_crossentropy', metrics=['categorical_accuracy', keras.metrics.AUC()])\n",
    "    return ensemble_model"
   ]
  },
  {
   "cell_type": "code",
   "execution_count": 4,
   "metadata": {},
   "outputs": [
    {
     "output_type": "stream",
     "name": "stdout",
     "text": [
      "0 done\n",
      "1 done\n",
      "2 done\n",
      "3 done\n",
      "Model: \"ensemble_dl\"\n",
      "__________________________________________________________________________________________________\n",
      "Layer (type)                    Output Shape         Param #     Connected to                     \n",
      "==================================================================================================\n",
      "input_1 (InputLayer)            [(None, 32, 32, 3)]  0                                            \n",
      "__________________________________________________________________________________________________\n",
      "custom_2 (Functional)           (None, 10)           924106      input_1[0][0]                    \n",
      "__________________________________________________________________________________________________\n",
      "custom_1 (Functional)           (None, 10)           2524938     input_1[0][0]                    \n",
      "__________________________________________________________________________________________________\n",
      "transfer_densenet (Functional)  (None, 10)           7347338     input_1[0][0]                    \n",
      "__________________________________________________________________________________________________\n",
      "custom_vgglike (Functional)     (None, 10)           550570      input_1[0][0]                    \n",
      "__________________________________________________________________________________________________\n",
      "concatenate (Concatenate)       (None, 40)           0           custom_2[0][0]                   \n",
      "                                                                 custom_1[0][0]                   \n",
      "                                                                 transfer_densenet[0][0]          \n",
      "                                                                 custom_vgglike[0][0]             \n",
      "__________________________________________________________________________________________________\n",
      "dense (Dense)                   (None, 512)          20992       concatenate[0][0]                \n",
      "__________________________________________________________________________________________________\n",
      "dropout (Dropout)               (None, 512)          0           dense[0][0]                      \n",
      "__________________________________________________________________________________________________\n",
      "batch_normalization (BatchNorma (None, 512)          2048        dropout[0][0]                    \n",
      "__________________________________________________________________________________________________\n",
      "dense_1 (Dense)                 (None, 256)          131328      batch_normalization[0][0]        \n",
      "__________________________________________________________________________________________________\n",
      "dropout_1 (Dropout)             (None, 256)          0           dense_1[0][0]                    \n",
      "__________________________________________________________________________________________________\n",
      "batch_normalization_1 (BatchNor (None, 256)          1024        dropout_1[0][0]                  \n",
      "__________________________________________________________________________________________________\n",
      "dense_2 (Dense)                 (None, 128)          32896       batch_normalization_1[0][0]      \n",
      "__________________________________________________________________________________________________\n",
      "dropout_2 (Dropout)             (None, 128)          0           dense_2[0][0]                    \n",
      "__________________________________________________________________________________________________\n",
      "batch_normalization_2 (BatchNor (None, 128)          512         dropout_2[0][0]                  \n",
      "__________________________________________________________________________________________________\n",
      "dense_3 (Dense)                 (None, 64)           8256        batch_normalization_2[0][0]      \n",
      "__________________________________________________________________________________________________\n",
      "dropout_3 (Dropout)             (None, 64)           0           dense_3[0][0]                    \n",
      "__________________________________________________________________________________________________\n",
      "dense_4 (Dense)                 (None, 10)           650         dropout_3[0][0]                  \n",
      "==================================================================================================\n",
      "Total params: 11,544,658\n",
      "Trainable params: 195,914\n",
      "Non-trainable params: 11,348,744\n",
      "__________________________________________________________________________________________________\n"
     ]
    }
   ],
   "source": [
    "model = ensemble_dl()\n",
    "model.summary()"
   ]
  },
  {
   "cell_type": "code",
   "execution_count": 6,
   "metadata": {},
   "outputs": [],
   "source": [
    "callback = keras.callbacks.ModelCheckpoint('models/ensemble_dl', monitor='val_loss', save_best_only=True)"
   ]
  },
  {
   "cell_type": "code",
   "execution_count": 7,
   "metadata": {
    "tags": []
   },
   "outputs": [
    {
     "output_type": "stream",
     "name": "stdout",
     "text": [
      "Epoch 1/50\n",
      "98/98 [==============================] - 647s 5s/step - loss: 0.7966 - categorical_accuracy: 0.7696 - auc: 0.9438 - val_loss: 0.9272 - val_categorical_accuracy: 0.8340 - val_auc: 0.9761\n",
      "INFO:tensorflow:Assets written to: models/ensemble_dl/assets\n",
      "Epoch 2/50\n",
      "98/98 [==============================] - 21s 213ms/step - loss: 0.2182 - categorical_accuracy: 0.9445 - auc: 0.9939 - val_loss: 0.6561 - val_categorical_accuracy: 0.8397 - val_auc: 0.9811\n",
      "INFO:tensorflow:Assets written to: models/ensemble_dl/assets\n",
      "Epoch 3/50\n",
      "98/98 [==============================] - 21s 214ms/step - loss: 0.1958 - categorical_accuracy: 0.9478 - auc: 0.9952 - val_loss: 0.4946 - val_categorical_accuracy: 0.8537 - val_auc: 0.9854\n",
      "INFO:tensorflow:Assets written to: models/ensemble_dl/assets\n",
      "Epoch 4/50\n",
      "98/98 [==============================] - 21s 214ms/step - loss: 0.1919 - categorical_accuracy: 0.9476 - auc: 0.9953 - val_loss: 0.4720 - val_categorical_accuracy: 0.8535 - val_auc: 0.9843\n",
      "INFO:tensorflow:Assets written to: models/ensemble_dl/assets\n",
      "Epoch 5/50\n",
      "98/98 [==============================] - 21s 214ms/step - loss: 0.1830 - categorical_accuracy: 0.9471 - auc: 0.9958 - val_loss: 0.4934 - val_categorical_accuracy: 0.8578 - val_auc: 0.9815\n",
      "Epoch 6/50\n",
      "98/98 [==============================] - 21s 214ms/step - loss: 0.1826 - categorical_accuracy: 0.9487 - auc: 0.9958 - val_loss: 0.5359 - val_categorical_accuracy: 0.8561 - val_auc: 0.9781\n",
      "Epoch 7/50\n",
      "98/98 [==============================] - 21s 214ms/step - loss: 0.1773 - categorical_accuracy: 0.9501 - auc: 0.9960 - val_loss: 0.5638 - val_categorical_accuracy: 0.8574 - val_auc: 0.9753\n",
      "Epoch 8/50\n",
      "98/98 [==============================] - 21s 214ms/step - loss: 0.1696 - categorical_accuracy: 0.9505 - auc: 0.9963 - val_loss: 0.5646 - val_categorical_accuracy: 0.8598 - val_auc: 0.9753\n",
      "Epoch 9/50\n",
      "98/98 [==============================] - 21s 215ms/step - loss: 0.1716 - categorical_accuracy: 0.9500 - auc: 0.9964 - val_loss: 0.5655 - val_categorical_accuracy: 0.8589 - val_auc: 0.9753\n",
      "Epoch 10/50\n",
      "98/98 [==============================] - 21s 215ms/step - loss: 0.1689 - categorical_accuracy: 0.9510 - auc: 0.9964 - val_loss: 0.5601 - val_categorical_accuracy: 0.8580 - val_auc: 0.9765\n",
      "Epoch 11/50\n",
      "98/98 [==============================] - 21s 215ms/step - loss: 0.1679 - categorical_accuracy: 0.9506 - auc: 0.9964 - val_loss: 0.5635 - val_categorical_accuracy: 0.8580 - val_auc: 0.9758\n",
      "Epoch 12/50\n",
      "98/98 [==============================] - 21s 215ms/step - loss: 0.1660 - categorical_accuracy: 0.9499 - auc: 0.9964 - val_loss: 0.5625 - val_categorical_accuracy: 0.8605 - val_auc: 0.9755\n",
      "Epoch 13/50\n",
      "98/98 [==============================] - 21s 215ms/step - loss: 0.1663 - categorical_accuracy: 0.9500 - auc: 0.9966 - val_loss: 0.5698 - val_categorical_accuracy: 0.8597 - val_auc: 0.9754\n",
      "Epoch 14/50\n",
      "98/98 [==============================] - 21s 215ms/step - loss: 0.1614 - categorical_accuracy: 0.9531 - auc: 0.9964 - val_loss: 0.5699 - val_categorical_accuracy: 0.8556 - val_auc: 0.9750\n",
      "Epoch 15/50\n",
      "98/98 [==============================] - 21s 215ms/step - loss: 0.1520 - categorical_accuracy: 0.9555 - auc: 0.9969 - val_loss: 0.5593 - val_categorical_accuracy: 0.8575 - val_auc: 0.9759\n",
      "Epoch 16/50\n",
      "98/98 [==============================] - 21s 215ms/step - loss: 0.1652 - categorical_accuracy: 0.9513 - auc: 0.9964 - val_loss: 0.5736 - val_categorical_accuracy: 0.8549 - val_auc: 0.9750\n",
      "Epoch 17/50\n",
      "98/98 [==============================] - 21s 215ms/step - loss: 0.1597 - categorical_accuracy: 0.9523 - auc: 0.9966 - val_loss: 0.5686 - val_categorical_accuracy: 0.8568 - val_auc: 0.9757\n",
      "Epoch 18/50\n",
      "98/98 [==============================] - 21s 215ms/step - loss: 0.1583 - categorical_accuracy: 0.9521 - auc: 0.9970 - val_loss: 0.5466 - val_categorical_accuracy: 0.8582 - val_auc: 0.9772\n",
      "Epoch 19/50\n",
      "98/98 [==============================] - 21s 215ms/step - loss: 0.1630 - categorical_accuracy: 0.9509 - auc: 0.9967 - val_loss: 0.5683 - val_categorical_accuracy: 0.8573 - val_auc: 0.9759\n",
      "Epoch 20/50\n",
      "98/98 [==============================] - 21s 215ms/step - loss: 0.1563 - categorical_accuracy: 0.9528 - auc: 0.9969 - val_loss: 0.5551 - val_categorical_accuracy: 0.8571 - val_auc: 0.9764\n",
      "Epoch 21/50\n",
      "98/98 [==============================] - 21s 215ms/step - loss: 0.1565 - categorical_accuracy: 0.9526 - auc: 0.9969 - val_loss: 0.5627 - val_categorical_accuracy: 0.8565 - val_auc: 0.9757\n",
      "Epoch 22/50\n",
      "98/98 [==============================] - 21s 215ms/step - loss: 0.1564 - categorical_accuracy: 0.9517 - auc: 0.9971 - val_loss: 0.5567 - val_categorical_accuracy: 0.8601 - val_auc: 0.9768\n",
      "Epoch 23/50\n",
      "98/98 [==============================] - 21s 215ms/step - loss: 0.1514 - categorical_accuracy: 0.9544 - auc: 0.9973 - val_loss: 0.5612 - val_categorical_accuracy: 0.8558 - val_auc: 0.9767\n",
      "Epoch 24/50\n",
      "98/98 [==============================] - 21s 215ms/step - loss: 0.1663 - categorical_accuracy: 0.9487 - auc: 0.9965 - val_loss: 0.5643 - val_categorical_accuracy: 0.8578 - val_auc: 0.9758\n",
      "Epoch 25/50\n",
      "98/98 [==============================] - 21s 215ms/step - loss: 0.1582 - categorical_accuracy: 0.9521 - auc: 0.9969 - val_loss: 0.5647 - val_categorical_accuracy: 0.8564 - val_auc: 0.9755\n",
      "Epoch 26/50\n",
      "98/98 [==============================] - 21s 215ms/step - loss: 0.1580 - categorical_accuracy: 0.9524 - auc: 0.9968 - val_loss: 0.5499 - val_categorical_accuracy: 0.8600 - val_auc: 0.9768\n",
      "Epoch 27/50\n",
      "98/98 [==============================] - 21s 215ms/step - loss: 0.1527 - categorical_accuracy: 0.9553 - auc: 0.9969 - val_loss: 0.5584 - val_categorical_accuracy: 0.8607 - val_auc: 0.9765\n",
      "Epoch 28/50\n",
      "98/98 [==============================] - 21s 215ms/step - loss: 0.1536 - categorical_accuracy: 0.9530 - auc: 0.9972 - val_loss: 0.5558 - val_categorical_accuracy: 0.8565 - val_auc: 0.9761\n",
      "Epoch 29/50\n",
      "98/98 [==============================] - 21s 215ms/step - loss: 0.1582 - categorical_accuracy: 0.9516 - auc: 0.9969 - val_loss: 0.5836 - val_categorical_accuracy: 0.8565 - val_auc: 0.9742\n",
      "Epoch 30/50\n",
      "98/98 [==============================] - 21s 215ms/step - loss: 0.1518 - categorical_accuracy: 0.9517 - auc: 0.9972 - val_loss: 0.5766 - val_categorical_accuracy: 0.8568 - val_auc: 0.9749\n",
      "Epoch 31/50\n",
      "98/98 [==============================] - 21s 215ms/step - loss: 0.1515 - categorical_accuracy: 0.9533 - auc: 0.9969 - val_loss: 0.5643 - val_categorical_accuracy: 0.8572 - val_auc: 0.9752\n",
      "Epoch 32/50\n",
      "98/98 [==============================] - 21s 215ms/step - loss: 0.1500 - categorical_accuracy: 0.9552 - auc: 0.9972 - val_loss: 0.5564 - val_categorical_accuracy: 0.8595 - val_auc: 0.9756\n",
      "Epoch 33/50\n",
      "98/98 [==============================] - 21s 215ms/step - loss: 0.1494 - categorical_accuracy: 0.9540 - auc: 0.9973 - val_loss: 0.5611 - val_categorical_accuracy: 0.8604 - val_auc: 0.9758\n",
      "Epoch 34/50\n",
      "98/98 [==============================] - 21s 215ms/step - loss: 0.1484 - categorical_accuracy: 0.9537 - auc: 0.9970 - val_loss: 0.5482 - val_categorical_accuracy: 0.8599 - val_auc: 0.9771\n",
      "Epoch 35/50\n",
      "98/98 [==============================] - 21s 215ms/step - loss: 0.1470 - categorical_accuracy: 0.9543 - auc: 0.9974 - val_loss: 0.5643 - val_categorical_accuracy: 0.8578 - val_auc: 0.9758\n",
      "Epoch 36/50\n",
      "98/98 [==============================] - 21s 215ms/step - loss: 0.1558 - categorical_accuracy: 0.9530 - auc: 0.9968 - val_loss: 0.5560 - val_categorical_accuracy: 0.8595 - val_auc: 0.9754\n",
      "Epoch 37/50\n",
      "98/98 [==============================] - 21s 215ms/step - loss: 0.1493 - categorical_accuracy: 0.9545 - auc: 0.9971 - val_loss: 0.5587 - val_categorical_accuracy: 0.8607 - val_auc: 0.9762\n",
      "Epoch 38/50\n",
      "98/98 [==============================] - 21s 215ms/step - loss: 0.1487 - categorical_accuracy: 0.9544 - auc: 0.9970 - val_loss: 0.5849 - val_categorical_accuracy: 0.8587 - val_auc: 0.9746\n",
      "Epoch 39/50\n",
      "98/98 [==============================] - 21s 215ms/step - loss: 0.1539 - categorical_accuracy: 0.9522 - auc: 0.9972 - val_loss: 0.5531 - val_categorical_accuracy: 0.8583 - val_auc: 0.9765\n",
      "Epoch 40/50\n",
      "98/98 [==============================] - 21s 215ms/step - loss: 0.1479 - categorical_accuracy: 0.9530 - auc: 0.9972 - val_loss: 0.5654 - val_categorical_accuracy: 0.8597 - val_auc: 0.9753\n",
      "Epoch 41/50\n",
      "98/98 [==============================] - 21s 215ms/step - loss: 0.1492 - categorical_accuracy: 0.9529 - auc: 0.9973 - val_loss: 0.5653 - val_categorical_accuracy: 0.8594 - val_auc: 0.9760\n",
      "Epoch 42/50\n",
      "98/98 [==============================] - 21s 215ms/step - loss: 0.1455 - categorical_accuracy: 0.9543 - auc: 0.9974 - val_loss: 0.5828 - val_categorical_accuracy: 0.8550 - val_auc: 0.9741\n",
      "Epoch 43/50\n",
      "98/98 [==============================] - 21s 215ms/step - loss: 0.1498 - categorical_accuracy: 0.9552 - auc: 0.9970 - val_loss: 0.5579 - val_categorical_accuracy: 0.8583 - val_auc: 0.9762\n",
      "Epoch 44/50\n",
      "98/98 [==============================] - 21s 215ms/step - loss: 0.1490 - categorical_accuracy: 0.9542 - auc: 0.9972 - val_loss: 0.5683 - val_categorical_accuracy: 0.8571 - val_auc: 0.9751\n",
      "Epoch 45/50\n",
      "98/98 [==============================] - 21s 215ms/step - loss: 0.1395 - categorical_accuracy: 0.9562 - auc: 0.9974 - val_loss: 0.5602 - val_categorical_accuracy: 0.8597 - val_auc: 0.9757\n",
      "Epoch 46/50\n",
      "98/98 [==============================] - 21s 215ms/step - loss: 0.1491 - categorical_accuracy: 0.9537 - auc: 0.9974 - val_loss: 0.5575 - val_categorical_accuracy: 0.8565 - val_auc: 0.9763\n",
      "Epoch 47/50\n",
      "98/98 [==============================] - 21s 215ms/step - loss: 0.1431 - categorical_accuracy: 0.9564 - auc: 0.9973 - val_loss: 0.5500 - val_categorical_accuracy: 0.8579 - val_auc: 0.9764\n",
      "Epoch 48/50\n",
      "98/98 [==============================] - 21s 215ms/step - loss: 0.1456 - categorical_accuracy: 0.9537 - auc: 0.9973 - val_loss: 0.5581 - val_categorical_accuracy: 0.8594 - val_auc: 0.9756\n",
      "Epoch 49/50\n",
      "98/98 [==============================] - 21s 215ms/step - loss: 0.1452 - categorical_accuracy: 0.9537 - auc: 0.9972 - val_loss: 0.5597 - val_categorical_accuracy: 0.8586 - val_auc: 0.9759\n",
      "Epoch 50/50\n",
      "98/98 [==============================] - 21s 215ms/step - loss: 0.1399 - categorical_accuracy: 0.9557 - auc: 0.9976 - val_loss: 0.5687 - val_categorical_accuracy: 0.8579 - val_auc: 0.9761\n"
     ]
    }
   ],
   "source": [
    "history = model.fit(x=trainX, y=trainY, batch_size=512, epochs=50, callbacks=callback, validation_data=(testX, testY))"
   ]
  },
  {
   "cell_type": "code",
   "execution_count": 8,
   "metadata": {},
   "outputs": [],
   "source": [
    "best_model = keras.models.load_model('models/ensemble_dl')"
   ]
  },
  {
   "cell_type": "code",
   "execution_count": 9,
   "metadata": {},
   "outputs": [
    {
     "output_type": "stream",
     "name": "stdout",
     "text": [
      "313/313 [==============================] - 513s 829ms/step - loss: 0.4720 - categorical_accuracy: 0.8536 - auc: 0.9843\n"
     ]
    },
    {
     "output_type": "execute_result",
     "data": {
      "text/plain": [
       "[0.4720035195350647, 0.853600025177002, 0.9843108057975769]"
      ]
     },
     "metadata": {},
     "execution_count": 9
    }
   ],
   "source": [
    "best_model.evaluate(x=testX, y=testY)"
   ]
  }
 ]
}