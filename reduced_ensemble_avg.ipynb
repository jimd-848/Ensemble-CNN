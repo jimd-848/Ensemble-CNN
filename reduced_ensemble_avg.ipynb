{
 "metadata": {
  "language_info": {
   "codemirror_mode": {
    "name": "ipython",
    "version": 3
   },
   "file_extension": ".py",
   "mimetype": "text/x-python",
   "name": "python",
   "nbconvert_exporter": "python",
   "pygments_lexer": "ipython3",
   "version": "3.8.8-final"
  },
  "orig_nbformat": 2,
  "kernelspec": {
   "name": "python3",
   "display_name": "Python 3.8.8 64-bit ('base': conda)",
   "metadata": {
    "interpreter": {
     "hash": "b10adc8b4b24ff954d99c62f6bf1e45e0f3a936f77a846b176af4c6827cb0e64"
    }
   }
  }
 },
 "nbformat": 4,
 "nbformat_minor": 2,
 "cells": [
  {
   "cell_type": "code",
   "execution_count": 1,
   "metadata": {},
   "outputs": [],
   "source": [
    "from tensorflow import keras\n",
    "from tensorflow.keras import layers\n",
    "from tensorflow.config import list_physical_devices\n",
    "from tensorflow.image import ResizeMethod\n",
    "from tensorflow.image import resize_with_pad\n",
    "\n",
    "import utils"
   ]
  },
  {
   "cell_type": "code",
   "execution_count": 2,
   "metadata": {},
   "outputs": [],
   "source": [
    "trainX, trainY, testX, testY = utils.load_dataset()"
   ]
  },
  {
   "cell_type": "code",
   "execution_count": 3,
   "metadata": {},
   "outputs": [],
   "source": [
    "def ensemble_avg():\n",
    "    inputs = keras.Input(shape=(32,32,3))\n",
    "\n",
    "    all_models_str = ['models/custom_1', 'models/custom_2']\n",
    "    all_models = [keras.models.load_model(i) for i in all_models_str]\n",
    "    all_model_output = []\n",
    "\n",
    "    counter = 0\n",
    "    for m in all_models:\n",
    "        m.trainable = False\n",
    "        all_model_output.append(m(inputs))\n",
    "        print(str(counter) + ' done')\n",
    "        counter += 1\n",
    "\n",
    "    outputs = layers.average(all_model_output)\n",
    "    ensemble_model = keras.Model(inputs=inputs, outputs=outputs, name='ensemble_avg')\n",
    "    ensemble_model.compile(loss='categorical_crossentropy', metrics=['categorical_accuracy', keras.metrics.AUC()])\n",
    "    return ensemble_model"
   ]
  },
  {
   "cell_type": "code",
   "execution_count": 4,
   "metadata": {},
   "outputs": [
    {
     "output_type": "stream",
     "name": "stdout",
     "text": [
      "0 done\n1 done\n"
     ]
    }
   ],
   "source": [
    "model = ensemble_avg()"
   ]
  },
  {
   "cell_type": "code",
   "execution_count": 5,
   "metadata": {},
   "outputs": [
    {
     "output_type": "stream",
     "name": "stdout",
     "text": [
      "Model: \"ensemble_avg\"\n__________________________________________________________________________________________________\nLayer (type)                    Output Shape         Param #     Connected to                     \n==================================================================================================\ninput_1 (InputLayer)            [(None, 32, 32, 3)]  0                                            \n__________________________________________________________________________________________________\ncustom_1 (Functional)           (None, 10)           2524938     input_1[0][0]                    \n__________________________________________________________________________________________________\ncustom_2 (Functional)           (None, 10)           924106      input_1[0][0]                    \n__________________________________________________________________________________________________\naverage (Average)               (None, 10)           0           custom_1[0][0]                   \n                                                                 custom_2[0][0]                   \n==================================================================================================\nTotal params: 3,449,044\nTrainable params: 0\nNon-trainable params: 3,449,044\n__________________________________________________________________________________________________\n"
     ]
    }
   ],
   "source": [
    "model.summary()"
   ]
  },
  {
   "cell_type": "code",
   "execution_count": 6,
   "metadata": {},
   "outputs": [
    {
     "output_type": "stream",
     "name": "stdout",
     "text": [
      "313/313 [==============================] - 25s 38ms/step - loss: 0.7000 - categorical_accuracy: 0.7834 - auc: 0.9703\n"
     ]
    },
    {
     "output_type": "execute_result",
     "data": {
      "text/plain": [
       "[0.716093897819519, 0.7791000008583069, 0.9688507914543152]"
      ]
     },
     "metadata": {},
     "execution_count": 6
    }
   ],
   "source": [
    "model.evaluate(x=testX, y=testY)"
   ]
  }
 ]
}