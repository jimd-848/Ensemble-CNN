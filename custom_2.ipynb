{
 "metadata": {
  "language_info": {
   "codemirror_mode": {
    "name": "ipython",
    "version": 3
   },
   "file_extension": ".py",
   "mimetype": "text/x-python",
   "name": "python",
   "nbconvert_exporter": "python",
   "pygments_lexer": "ipython3",
   "version": "3.8.8-final"
  },
  "orig_nbformat": 2,
  "kernelspec": {
   "name": "python3",
   "display_name": "Python 3.8.8 64-bit ('base': conda)",
   "metadata": {
    "interpreter": {
     "hash": "b10adc8b4b24ff954d99c62f6bf1e45e0f3a936f77a846b176af4c6827cb0e64"
    }
   }
  }
 },
 "nbformat": 4,
 "nbformat_minor": 2,
 "cells": [
  {
   "cell_type": "code",
   "execution_count": 1,
   "metadata": {},
   "outputs": [],
   "source": [
    "from tensorflow import keras\n",
    "from tensorflow.keras import layers\n",
    "from tensorflow.config import list_physical_devices\n",
    "\n",
    "import utils"
   ]
  },
  {
   "cell_type": "code",
   "execution_count": 2,
   "metadata": {},
   "outputs": [
    {
     "output_type": "execute_result",
     "data": {
      "text/plain": [
       "[PhysicalDevice(name='/physical_device:GPU:0', device_type='GPU')]"
      ]
     },
     "metadata": {},
     "execution_count": 2
    }
   ],
   "source": [
    "list_physical_devices('GPU')"
   ]
  },
  {
   "cell_type": "code",
   "execution_count": 3,
   "metadata": {},
   "outputs": [],
   "source": [
    "trainX, trainY, testX, testY = utils.load_dataset()"
   ]
  },
  {
   "cell_type": "code",
   "execution_count": 4,
   "metadata": {},
   "outputs": [
    {
     "output_type": "execute_result",
     "data": {
      "text/plain": [
       "(50000, 32, 32, 3)"
      ]
     },
     "metadata": {},
     "execution_count": 4
    }
   ],
   "source": [
    "trainX.shape"
   ]
  },
  {
   "cell_type": "code",
   "execution_count": 5,
   "metadata": {},
   "outputs": [],
   "source": [
    "def custom_2():\n",
    "    inputs = keras.Input(shape=(32,32,3))\n",
    "\n",
    "    x = layers.Conv2D(32, (3,3), activation='relu')(inputs)\n",
    "    x = layers.MaxPooling2D((2,2))(x)\n",
    "\n",
    "    x = layers.Conv2D(64, (3,3), activation='relu')(inputs)\n",
    "    x = layers.MaxPooling2D((2,2))(x)\n",
    "\n",
    "    x = layers.Conv2D(64, (3,3), activation='relu')(inputs)\n",
    "    x = layers.MaxPooling2D((2,2))(x)\n",
    "\n",
    "    x = layers.Flatten()(x)\n",
    "\n",
    "    x = layers.Dense(64, activation='relu')(x)\n",
    "    \n",
    "    outputs = layers.Dense(10, activation='softmax')(x)\n",
    "\n",
    "    model = keras.Model(inputs=inputs, outputs=outputs, name=\"custom_2\")\n",
    "    model.compile(optimizer='Adam', loss='categorical_crossentropy', metrics=['categorical_accuracy', keras.metrics.AUC()])\n",
    "    return model"
   ]
  },
  {
   "cell_type": "code",
   "execution_count": 6,
   "metadata": {},
   "outputs": [],
   "source": [
    "callback = keras.callbacks.ModelCheckpoint('models/custom_2', monitor='val_loss', save_best_only=True)"
   ]
  },
  {
   "cell_type": "code",
   "execution_count": 7,
   "metadata": {
    "tags": [
     "outputPrepend"
    ]
   },
   "outputs": [
    {
     "output_type": "stream",
     "name": "stdout",
     "text": [
      "=============] - 1s 8ms/step - loss: 1.2414 - categorical_accuracy: 0.5693 - auc: 0.9139 - val_loss: 1.2179 - val_categorical_accuracy: 0.5700 - val_auc: 0.9162\n",
      "INFO:tensorflow:Assets written to: models/custom_2/assets\n",
      "Epoch 4/100\n",
      "98/98 [==============================] - 1s 8ms/step - loss: 1.1548 - categorical_accuracy: 0.6008 - auc: 0.9255 - val_loss: 1.1798 - val_categorical_accuracy: 0.5867 - val_auc: 0.9210\n",
      "INFO:tensorflow:Assets written to: models/custom_2/assets\n",
      "Epoch 5/100\n",
      "98/98 [==============================] - 1s 8ms/step - loss: 1.0950 - categorical_accuracy: 0.6234 - auc: 0.9329 - val_loss: 1.1205 - val_categorical_accuracy: 0.6118 - val_auc: 0.9289\n",
      "INFO:tensorflow:Assets written to: models/custom_2/assets\n",
      "Epoch 6/100\n",
      "98/98 [==============================] - 1s 8ms/step - loss: 1.0487 - categorical_accuracy: 0.6417 - auc: 0.9383 - val_loss: 1.1427 - val_categorical_accuracy: 0.6015 - val_auc: 0.9256\n",
      "Epoch 7/100\n",
      "98/98 [==============================] - 1s 8ms/step - loss: 1.0212 - categorical_accuracy: 0.6499 - auc: 0.9414 - val_loss: 1.0819 - val_categorical_accuracy: 0.6259 - val_auc: 0.9334\n",
      "INFO:tensorflow:Assets written to: models/custom_2/assets\n",
      "Epoch 8/100\n",
      "98/98 [==============================] - 1s 8ms/step - loss: 0.9742 - categorical_accuracy: 0.6637 - auc: 0.9468 - val_loss: 1.0624 - val_categorical_accuracy: 0.6267 - val_auc: 0.9357\n",
      "INFO:tensorflow:Assets written to: models/custom_2/assets\n",
      "Epoch 9/100\n",
      "98/98 [==============================] - 1s 8ms/step - loss: 0.9551 - categorical_accuracy: 0.6685 - auc: 0.9487 - val_loss: 1.0450 - val_categorical_accuracy: 0.6389 - val_auc: 0.9374\n",
      "INFO:tensorflow:Assets written to: models/custom_2/assets\n",
      "Epoch 10/100\n",
      "98/98 [==============================] - 1s 8ms/step - loss: 0.9065 - categorical_accuracy: 0.6870 - auc: 0.9539 - val_loss: 1.0793 - val_categorical_accuracy: 0.6201 - val_auc: 0.9337\n",
      "Epoch 11/100\n",
      "98/98 [==============================] - 1s 8ms/step - loss: 0.8922 - categorical_accuracy: 0.6957 - auc: 0.9552 - val_loss: 1.0222 - val_categorical_accuracy: 0.6483 - val_auc: 0.9400\n",
      "INFO:tensorflow:Assets written to: models/custom_2/assets\n",
      "Epoch 12/100\n",
      "98/98 [==============================] - 1s 8ms/step - loss: 0.8618 - categorical_accuracy: 0.7060 - auc: 0.9583 - val_loss: 1.0225 - val_categorical_accuracy: 0.6490 - val_auc: 0.9396\n",
      "Epoch 13/100\n",
      "98/98 [==============================] - 1s 8ms/step - loss: 0.8434 - categorical_accuracy: 0.7085 - auc: 0.9601 - val_loss: 1.0184 - val_categorical_accuracy: 0.6487 - val_auc: 0.9404\n",
      "INFO:tensorflow:Assets written to: models/custom_2/assets\n",
      "Epoch 14/100\n",
      "98/98 [==============================] - 1s 8ms/step - loss: 0.8185 - categorical_accuracy: 0.7195 - auc: 0.9623 - val_loss: 1.0333 - val_categorical_accuracy: 0.6449 - val_auc: 0.9386\n",
      "Epoch 15/100\n",
      "98/98 [==============================] - 1s 8ms/step - loss: 0.8019 - categorical_accuracy: 0.7261 - auc: 0.9639 - val_loss: 1.0586 - val_categorical_accuracy: 0.6382 - val_auc: 0.9359\n",
      "Epoch 16/100\n",
      "98/98 [==============================] - 1s 8ms/step - loss: 0.7970 - categorical_accuracy: 0.7250 - auc: 0.9641 - val_loss: 1.0075 - val_categorical_accuracy: 0.6523 - val_auc: 0.9417\n",
      "INFO:tensorflow:Assets written to: models/custom_2/assets\n",
      "Epoch 17/100\n",
      "98/98 [==============================] - 1s 8ms/step - loss: 0.7787 - categorical_accuracy: 0.7330 - auc: 0.9656 - val_loss: 1.0220 - val_categorical_accuracy: 0.6503 - val_auc: 0.9403\n",
      "Epoch 18/100\n",
      "98/98 [==============================] - 1s 8ms/step - loss: 0.7453 - categorical_accuracy: 0.7423 - auc: 0.9688 - val_loss: 1.0143 - val_categorical_accuracy: 0.6513 - val_auc: 0.9412\n",
      "Epoch 19/100\n",
      "98/98 [==============================] - 1s 8ms/step - loss: 0.7191 - categorical_accuracy: 0.7534 - auc: 0.9709 - val_loss: 1.0081 - val_categorical_accuracy: 0.6538 - val_auc: 0.9418\n",
      "Epoch 20/100\n",
      "98/98 [==============================] - 1s 8ms/step - loss: 0.7079 - categorical_accuracy: 0.7571 - auc: 0.9716 - val_loss: 1.0056 - val_categorical_accuracy: 0.6600 - val_auc: 0.9422\n",
      "INFO:tensorflow:Assets written to: models/custom_2/assets\n",
      "Epoch 21/100\n",
      "98/98 [==============================] - 1s 8ms/step - loss: 0.6880 - categorical_accuracy: 0.7659 - auc: 0.9734 - val_loss: 1.0229 - val_categorical_accuracy: 0.6510 - val_auc: 0.9403\n",
      "Epoch 22/100\n",
      "98/98 [==============================] - 1s 8ms/step - loss: 0.6852 - categorical_accuracy: 0.7654 - auc: 0.9736 - val_loss: 1.0044 - val_categorical_accuracy: 0.6615 - val_auc: 0.9426\n",
      "INFO:tensorflow:Assets written to: models/custom_2/assets\n",
      "Epoch 23/100\n",
      "98/98 [==============================] - 1s 8ms/step - loss: 0.6537 - categorical_accuracy: 0.7789 - auc: 0.9760 - val_loss: 1.0248 - val_categorical_accuracy: 0.6488 - val_auc: 0.9408\n",
      "Epoch 24/100\n",
      "98/98 [==============================] - 1s 8ms/step - loss: 0.6348 - categorical_accuracy: 0.7860 - auc: 0.9773 - val_loss: 1.0133 - val_categorical_accuracy: 0.6546 - val_auc: 0.9422\n",
      "Epoch 25/100\n",
      "98/98 [==============================] - 1s 8ms/step - loss: 0.6221 - categorical_accuracy: 0.7933 - auc: 0.9782 - val_loss: 1.0132 - val_categorical_accuracy: 0.6599 - val_auc: 0.9419\n",
      "Epoch 26/100\n",
      "98/98 [==============================] - 1s 8ms/step - loss: 0.6097 - categorical_accuracy: 0.7913 - auc: 0.9791 - val_loss: 1.0582 - val_categorical_accuracy: 0.6419 - val_auc: 0.9381\n",
      "Epoch 27/100\n",
      "98/98 [==============================] - 1s 8ms/step - loss: 0.5960 - categorical_accuracy: 0.7980 - auc: 0.9800 - val_loss: 1.0223 - val_categorical_accuracy: 0.6600 - val_auc: 0.9413\n",
      "Epoch 28/100\n",
      "98/98 [==============================] - 1s 8ms/step - loss: 0.5738 - categorical_accuracy: 0.8048 - auc: 0.9818 - val_loss: 1.0597 - val_categorical_accuracy: 0.6486 - val_auc: 0.9386\n",
      "Epoch 29/100\n",
      "98/98 [==============================] - 1s 8ms/step - loss: 0.5636 - categorical_accuracy: 0.8118 - auc: 0.9821 - val_loss: 1.0401 - val_categorical_accuracy: 0.6605 - val_auc: 0.9405\n",
      "Epoch 30/100\n",
      "98/98 [==============================] - 1s 8ms/step - loss: 0.5344 - categorical_accuracy: 0.8227 - auc: 0.9841 - val_loss: 1.0276 - val_categorical_accuracy: 0.6602 - val_auc: 0.9418\n",
      "Epoch 31/100\n",
      "98/98 [==============================] - 1s 8ms/step - loss: 0.5323 - categorical_accuracy: 0.8208 - auc: 0.9841 - val_loss: 1.0361 - val_categorical_accuracy: 0.6618 - val_auc: 0.9411\n",
      "Epoch 32/100\n",
      "98/98 [==============================] - 1s 8ms/step - loss: 0.5071 - categorical_accuracy: 0.8320 - auc: 0.9856 - val_loss: 1.0843 - val_categorical_accuracy: 0.6483 - val_auc: 0.9374\n",
      "Epoch 33/100\n",
      "98/98 [==============================] - 1s 8ms/step - loss: 0.5026 - categorical_accuracy: 0.8332 - auc: 0.9858 - val_loss: 1.0759 - val_categorical_accuracy: 0.6584 - val_auc: 0.9377\n",
      "Epoch 34/100\n",
      "98/98 [==============================] - 1s 8ms/step - loss: 0.4832 - categorical_accuracy: 0.8428 - auc: 0.9869 - val_loss: 1.0862 - val_categorical_accuracy: 0.6547 - val_auc: 0.9374\n",
      "Epoch 35/100\n",
      "98/98 [==============================] - 1s 8ms/step - loss: 0.4771 - categorical_accuracy: 0.8436 - auc: 0.9873 - val_loss: 1.0744 - val_categorical_accuracy: 0.6514 - val_auc: 0.9388\n",
      "Epoch 36/100\n",
      "98/98 [==============================] - 1s 8ms/step - loss: 0.4503 - categorical_accuracy: 0.8552 - auc: 0.9887 - val_loss: 1.1027 - val_categorical_accuracy: 0.6494 - val_auc: 0.9366\n",
      "Epoch 37/100\n",
      "98/98 [==============================] - 1s 8ms/step - loss: 0.4477 - categorical_accuracy: 0.8527 - auc: 0.9888 - val_loss: 1.1124 - val_categorical_accuracy: 0.6558 - val_auc: 0.9356\n",
      "Epoch 38/100\n",
      "98/98 [==============================] - 1s 8ms/step - loss: 0.4334 - categorical_accuracy: 0.8584 - auc: 0.9897 - val_loss: 1.1191 - val_categorical_accuracy: 0.6541 - val_auc: 0.9359\n",
      "Epoch 39/100\n",
      "98/98 [==============================] - 1s 8ms/step - loss: 0.4130 - categorical_accuracy: 0.8659 - auc: 0.9906 - val_loss: 1.1133 - val_categorical_accuracy: 0.6580 - val_auc: 0.9366\n",
      "Epoch 40/100\n",
      "98/98 [==============================] - 1s 8ms/step - loss: 0.4006 - categorical_accuracy: 0.8737 - auc: 0.9911 - val_loss: 1.1465 - val_categorical_accuracy: 0.6484 - val_auc: 0.9340\n",
      "Epoch 41/100\n",
      "98/98 [==============================] - 1s 8ms/step - loss: 0.3953 - categorical_accuracy: 0.8724 - auc: 0.9916 - val_loss: 1.1335 - val_categorical_accuracy: 0.6489 - val_auc: 0.9351\n",
      "Epoch 42/100\n",
      "98/98 [==============================] - 1s 8ms/step - loss: 0.3766 - categorical_accuracy: 0.8826 - auc: 0.9922 - val_loss: 1.1728 - val_categorical_accuracy: 0.6436 - val_auc: 0.9319\n",
      "Epoch 43/100\n",
      "98/98 [==============================] - 1s 8ms/step - loss: 0.3641 - categorical_accuracy: 0.8842 - auc: 0.9929 - val_loss: 1.1616 - val_categorical_accuracy: 0.6504 - val_auc: 0.9332\n",
      "Epoch 44/100\n",
      "98/98 [==============================] - 1s 8ms/step - loss: 0.3596 - categorical_accuracy: 0.8857 - auc: 0.9930 - val_loss: 1.1671 - val_categorical_accuracy: 0.6526 - val_auc: 0.9322\n",
      "Epoch 45/100\n",
      "98/98 [==============================] - 1s 8ms/step - loss: 0.3436 - categorical_accuracy: 0.8945 - auc: 0.9937 - val_loss: 1.2008 - val_categorical_accuracy: 0.6524 - val_auc: 0.9309\n",
      "Epoch 46/100\n",
      "98/98 [==============================] - 1s 8ms/step - loss: 0.3308 - categorical_accuracy: 0.8995 - auc: 0.9942 - val_loss: 1.2109 - val_categorical_accuracy: 0.6506 - val_auc: 0.9298\n",
      "Epoch 47/100\n",
      "98/98 [==============================] - 1s 8ms/step - loss: 0.3224 - categorical_accuracy: 0.9015 - auc: 0.9946 - val_loss: 1.2093 - val_categorical_accuracy: 0.6528 - val_auc: 0.9304\n",
      "Epoch 48/100\n",
      "98/98 [==============================] - 1s 8ms/step - loss: 0.3099 - categorical_accuracy: 0.9074 - auc: 0.9949 - val_loss: 1.2405 - val_categorical_accuracy: 0.6503 - val_auc: 0.9287\n",
      "Epoch 49/100\n",
      "98/98 [==============================] - 1s 8ms/step - loss: 0.3092 - categorical_accuracy: 0.9076 - auc: 0.9949 - val_loss: 1.2575 - val_categorical_accuracy: 0.6443 - val_auc: 0.9272\n",
      "Epoch 50/100\n",
      "98/98 [==============================] - 1s 8ms/step - loss: 0.2841 - categorical_accuracy: 0.9175 - auc: 0.9958 - val_loss: 1.2444 - val_categorical_accuracy: 0.6513 - val_auc: 0.9290\n",
      "Epoch 51/100\n",
      "98/98 [==============================] - 1s 8ms/step - loss: 0.2823 - categorical_accuracy: 0.9179 - auc: 0.9959 - val_loss: 1.2734 - val_categorical_accuracy: 0.6466 - val_auc: 0.9264\n",
      "Epoch 52/100\n",
      "98/98 [==============================] - 1s 8ms/step - loss: 0.2652 - categorical_accuracy: 0.9248 - auc: 0.9965 - val_loss: 1.2668 - val_categorical_accuracy: 0.6541 - val_auc: 0.9268\n",
      "Epoch 53/100\n",
      "98/98 [==============================] - 1s 8ms/step - loss: 0.2595 - categorical_accuracy: 0.9275 - auc: 0.9965 - val_loss: 1.3305 - val_categorical_accuracy: 0.6449 - val_auc: 0.9227\n",
      "Epoch 54/100\n",
      "98/98 [==============================] - 1s 8ms/step - loss: 0.2494 - categorical_accuracy: 0.9287 - auc: 0.9970 - val_loss: 1.3355 - val_categorical_accuracy: 0.6428 - val_auc: 0.9223\n",
      "Epoch 55/100\n",
      "98/98 [==============================] - 1s 8ms/step - loss: 0.2454 - categorical_accuracy: 0.9296 - auc: 0.9969 - val_loss: 1.3698 - val_categorical_accuracy: 0.6422 - val_auc: 0.9219\n",
      "Epoch 56/100\n",
      "98/98 [==============================] - 1s 8ms/step - loss: 0.2446 - categorical_accuracy: 0.9272 - auc: 0.9969 - val_loss: 1.3721 - val_categorical_accuracy: 0.6494 - val_auc: 0.9203\n",
      "Epoch 57/100\n",
      "98/98 [==============================] - 1s 8ms/step - loss: 0.2209 - categorical_accuracy: 0.9405 - auc: 0.9975 - val_loss: 1.3966 - val_categorical_accuracy: 0.6401 - val_auc: 0.9185\n",
      "Epoch 58/100\n",
      "98/98 [==============================] - 1s 8ms/step - loss: 0.2235 - categorical_accuracy: 0.9373 - auc: 0.9975 - val_loss: 1.3994 - val_categorical_accuracy: 0.6459 - val_auc: 0.9190\n",
      "Epoch 59/100\n",
      "98/98 [==============================] - 1s 8ms/step - loss: 0.2062 - categorical_accuracy: 0.9449 - auc: 0.9979 - val_loss: 1.4429 - val_categorical_accuracy: 0.6370 - val_auc: 0.9168\n",
      "Epoch 60/100\n",
      "98/98 [==============================] - 1s 8ms/step - loss: 0.2176 - categorical_accuracy: 0.9358 - auc: 0.9976 - val_loss: 1.4089 - val_categorical_accuracy: 0.6455 - val_auc: 0.9190\n",
      "Epoch 61/100\n",
      "98/98 [==============================] - 1s 8ms/step - loss: 0.1791 - categorical_accuracy: 0.9580 - auc: 0.9986 - val_loss: 1.4465 - val_categorical_accuracy: 0.6442 - val_auc: 0.9174\n",
      "Epoch 62/100\n",
      "98/98 [==============================] - 1s 8ms/step - loss: 0.1769 - categorical_accuracy: 0.9570 - auc: 0.9986 - val_loss: 1.4503 - val_categorical_accuracy: 0.6448 - val_auc: 0.9173\n",
      "Epoch 63/100\n",
      "98/98 [==============================] - 1s 8ms/step - loss: 0.1741 - categorical_accuracy: 0.9579 - auc: 0.9986 - val_loss: 1.4845 - val_categorical_accuracy: 0.6431 - val_auc: 0.9164\n",
      "Epoch 64/100\n",
      "98/98 [==============================] - 1s 8ms/step - loss: 0.1738 - categorical_accuracy: 0.9551 - auc: 0.9986 - val_loss: 1.5104 - val_categorical_accuracy: 0.6429 - val_auc: 0.9140\n",
      "Epoch 65/100\n",
      "98/98 [==============================] - 1s 8ms/step - loss: 0.1579 - categorical_accuracy: 0.9619 - auc: 0.9990 - val_loss: 1.5331 - val_categorical_accuracy: 0.6413 - val_auc: 0.9124\n",
      "Epoch 66/100\n",
      "98/98 [==============================] - 1s 8ms/step - loss: 0.1555 - categorical_accuracy: 0.9621 - auc: 0.9989 - val_loss: 1.5219 - val_categorical_accuracy: 0.6415 - val_auc: 0.9137\n",
      "Epoch 67/100\n",
      "98/98 [==============================] - 1s 8ms/step - loss: 0.1466 - categorical_accuracy: 0.9686 - auc: 0.9991 - val_loss: 1.6015 - val_categorical_accuracy: 0.6392 - val_auc: 0.9093\n",
      "Epoch 68/100\n",
      "98/98 [==============================] - 1s 8ms/step - loss: 0.1588 - categorical_accuracy: 0.9583 - auc: 0.9989 - val_loss: 1.5795 - val_categorical_accuracy: 0.6409 - val_auc: 0.9116\n",
      "Epoch 69/100\n",
      "98/98 [==============================] - 1s 8ms/step - loss: 0.1330 - categorical_accuracy: 0.9727 - auc: 0.9993 - val_loss: 1.5933 - val_categorical_accuracy: 0.6395 - val_auc: 0.9103\n",
      "Epoch 70/100\n",
      "98/98 [==============================] - 1s 8ms/step - loss: 0.1278 - categorical_accuracy: 0.9729 - auc: 0.9993 - val_loss: 1.6212 - val_categorical_accuracy: 0.6353 - val_auc: 0.9083\n",
      "Epoch 71/100\n",
      "98/98 [==============================] - 1s 8ms/step - loss: 0.1203 - categorical_accuracy: 0.9757 - auc: 0.9994 - val_loss: 1.6450 - val_categorical_accuracy: 0.6366 - val_auc: 0.9082\n",
      "Epoch 72/100\n",
      "98/98 [==============================] - 1s 8ms/step - loss: 0.1122 - categorical_accuracy: 0.9788 - auc: 0.9996 - val_loss: 1.6784 - val_categorical_accuracy: 0.6342 - val_auc: 0.9059\n",
      "Epoch 73/100\n",
      "98/98 [==============================] - 1s 8ms/step - loss: 0.1211 - categorical_accuracy: 0.9745 - auc: 0.9994 - val_loss: 1.6830 - val_categorical_accuracy: 0.6412 - val_auc: 0.9068\n",
      "Epoch 74/100\n",
      "98/98 [==============================] - 1s 8ms/step - loss: 0.1072 - categorical_accuracy: 0.9790 - auc: 0.9996 - val_loss: 1.7403 - val_categorical_accuracy: 0.6351 - val_auc: 0.9034\n",
      "Epoch 75/100\n",
      "98/98 [==============================] - 1s 8ms/step - loss: 0.1078 - categorical_accuracy: 0.9779 - auc: 0.9996 - val_loss: 1.7336 - val_categorical_accuracy: 0.6353 - val_auc: 0.9052\n",
      "Epoch 76/100\n",
      "98/98 [==============================] - 1s 8ms/step - loss: 0.0976 - categorical_accuracy: 0.9825 - auc: 0.9997 - val_loss: 1.7427 - val_categorical_accuracy: 0.6371 - val_auc: 0.9053\n",
      "Epoch 77/100\n",
      "98/98 [==============================] - 1s 8ms/step - loss: 0.0900 - categorical_accuracy: 0.9843 - auc: 0.9997 - val_loss: 1.7670 - val_categorical_accuracy: 0.6383 - val_auc: 0.9035\n",
      "Epoch 78/100\n",
      "98/98 [==============================] - 1s 8ms/step - loss: 0.0860 - categorical_accuracy: 0.9854 - auc: 0.9998 - val_loss: 1.7798 - val_categorical_accuracy: 0.6368 - val_auc: 0.9037\n",
      "Epoch 79/100\n",
      "98/98 [==============================] - 1s 8ms/step - loss: 0.0810 - categorical_accuracy: 0.9881 - auc: 0.9998 - val_loss: 1.8228 - val_categorical_accuracy: 0.6332 - val_auc: 0.9009\n",
      "Epoch 80/100\n",
      "98/98 [==============================] - 1s 8ms/step - loss: 0.0765 - categorical_accuracy: 0.9879 - auc: 0.9999 - val_loss: 1.8369 - val_categorical_accuracy: 0.6340 - val_auc: 0.9013\n",
      "Epoch 81/100\n",
      "98/98 [==============================] - 1s 8ms/step - loss: 0.0807 - categorical_accuracy: 0.9866 - auc: 0.9998 - val_loss: 1.8588 - val_categorical_accuracy: 0.6366 - val_auc: 0.8992\n",
      "Epoch 82/100\n",
      "98/98 [==============================] - 1s 8ms/step - loss: 0.0700 - categorical_accuracy: 0.9906 - auc: 0.9999 - val_loss: 1.8918 - val_categorical_accuracy: 0.6343 - val_auc: 0.8985\n",
      "Epoch 83/100\n",
      "98/98 [==============================] - 1s 8ms/step - loss: 0.0671 - categorical_accuracy: 0.9907 - auc: 0.9999 - val_loss: 1.8988 - val_categorical_accuracy: 0.6311 - val_auc: 0.8974\n",
      "Epoch 84/100\n",
      "98/98 [==============================] - 1s 8ms/step - loss: 0.0614 - categorical_accuracy: 0.9931 - auc: 0.9999 - val_loss: 1.9051 - val_categorical_accuracy: 0.6353 - val_auc: 0.8983\n",
      "Epoch 85/100\n",
      "98/98 [==============================] - 1s 8ms/step - loss: 0.0584 - categorical_accuracy: 0.9936 - auc: 0.9999 - val_loss: 1.9745 - val_categorical_accuracy: 0.6365 - val_auc: 0.8964\n",
      "Epoch 86/100\n",
      "98/98 [==============================] - 1s 8ms/step - loss: 0.0636 - categorical_accuracy: 0.9900 - auc: 0.9999 - val_loss: 1.9702 - val_categorical_accuracy: 0.6331 - val_auc: 0.8952\n",
      "Epoch 87/100\n",
      "98/98 [==============================] - 1s 8ms/step - loss: 0.0576 - categorical_accuracy: 0.9927 - auc: 0.9999 - val_loss: 2.0017 - val_categorical_accuracy: 0.6308 - val_auc: 0.8938\n",
      "Epoch 88/100\n",
      "98/98 [==============================] - 1s 8ms/step - loss: 0.0548 - categorical_accuracy: 0.9930 - auc: 0.9999 - val_loss: 2.0247 - val_categorical_accuracy: 0.6343 - val_auc: 0.8944\n",
      "Epoch 89/100\n",
      "98/98 [==============================] - 1s 8ms/step - loss: 0.0512 - categorical_accuracy: 0.9946 - auc: 1.0000 - val_loss: 2.0419 - val_categorical_accuracy: 0.6345 - val_auc: 0.8934\n",
      "Epoch 90/100\n",
      "98/98 [==============================] - 1s 8ms/step - loss: 0.0453 - categorical_accuracy: 0.9955 - auc: 1.0000 - val_loss: 2.0557 - val_categorical_accuracy: 0.6333 - val_auc: 0.8929\n",
      "Epoch 91/100\n",
      "98/98 [==============================] - 1s 8ms/step - loss: 0.0428 - categorical_accuracy: 0.9961 - auc: 0.9999 - val_loss: 2.1059 - val_categorical_accuracy: 0.6317 - val_auc: 0.8911\n",
      "Epoch 92/100\n",
      "98/98 [==============================] - 1s 8ms/step - loss: 0.0427 - categorical_accuracy: 0.9962 - auc: 0.9999 - val_loss: 2.1251 - val_categorical_accuracy: 0.6369 - val_auc: 0.8911\n",
      "Epoch 93/100\n",
      "98/98 [==============================] - 1s 8ms/step - loss: 0.0410 - categorical_accuracy: 0.9964 - auc: 1.0000 - val_loss: 2.1591 - val_categorical_accuracy: 0.6300 - val_auc: 0.8882\n",
      "Epoch 94/100\n",
      "98/98 [==============================] - 1s 8ms/step - loss: 0.0411 - categorical_accuracy: 0.9961 - auc: 1.0000 - val_loss: 2.1522 - val_categorical_accuracy: 0.6303 - val_auc: 0.8901\n",
      "Epoch 95/100\n",
      "98/98 [==============================] - 1s 8ms/step - loss: 0.0397 - categorical_accuracy: 0.9960 - auc: 1.0000 - val_loss: 2.1859 - val_categorical_accuracy: 0.6340 - val_auc: 0.8900\n",
      "Epoch 96/100\n",
      "98/98 [==============================] - 1s 8ms/step - loss: 0.0323 - categorical_accuracy: 0.9977 - auc: 1.0000 - val_loss: 2.2003 - val_categorical_accuracy: 0.6331 - val_auc: 0.8884\n",
      "Epoch 97/100\n",
      "98/98 [==============================] - 1s 8ms/step - loss: 0.0328 - categorical_accuracy: 0.9981 - auc: 1.0000 - val_loss: 2.2382 - val_categorical_accuracy: 0.6324 - val_auc: 0.8871\n",
      "Epoch 98/100\n",
      "98/98 [==============================] - 1s 8ms/step - loss: 0.0253 - categorical_accuracy: 0.9991 - auc: 1.0000 - val_loss: 2.2420 - val_categorical_accuracy: 0.6337 - val_auc: 0.8872\n",
      "Epoch 99/100\n",
      "98/98 [==============================] - 1s 7ms/step - loss: 0.0424 - categorical_accuracy: 0.9939 - auc: 1.0000 - val_loss: 2.3416 - val_categorical_accuracy: 0.6234 - val_auc: 0.8827\n",
      "Epoch 100/100\n",
      "98/98 [==============================] - 1s 8ms/step - loss: 0.0463 - categorical_accuracy: 0.9921 - auc: 0.9999 - val_loss: 2.3538 - val_categorical_accuracy: 0.6221 - val_auc: 0.8814\n"
     ]
    }
   ],
   "source": [
    "model = custom_2()\n",
    "history = model.fit(x=trainX, y=trainY, batch_size=512, epochs=100, callbacks=callback, validation_data=(testX, testY))"
   ]
  },
  {
   "cell_type": "code",
   "execution_count": 8,
   "metadata": {},
   "outputs": [],
   "source": [
    "best_model = keras.models.load_model('models/custom_2')"
   ]
  },
  {
   "cell_type": "code",
   "execution_count": 9,
   "metadata": {},
   "outputs": [
    {
     "output_type": "stream",
     "name": "stdout",
     "text": [
      "313/313 [==============================] - 6s 11ms/step - loss: 1.0044 - categorical_accuracy: 0.6615 - auc: 0.9426\n"
     ]
    },
    {
     "output_type": "execute_result",
     "data": {
      "text/plain": [
       "[1.0043991804122925, 0.6614999771118164, 0.9425649046897888]"
      ]
     },
     "metadata": {},
     "execution_count": 9
    }
   ],
   "source": [
    "best_model.evaluate(x=testX, y=testY)"
   ]
  },
  {
   "cell_type": "code",
   "execution_count": null,
   "metadata": {},
   "outputs": [],
   "source": [
    "#architecture: https://www.tensorflow.org/tutorials/images/cnn"
   ]
  }
 ]
}