{
 "metadata": {
  "language_info": {
   "codemirror_mode": {
    "name": "ipython",
    "version": 3
   },
   "file_extension": ".py",
   "mimetype": "text/x-python",
   "name": "python",
   "nbconvert_exporter": "python",
   "pygments_lexer": "ipython3",
   "version": "3.8.8-final"
  },
  "orig_nbformat": 2,
  "kernelspec": {
   "name": "python3",
   "display_name": "Python 3.8.8 64-bit ('base': conda)",
   "metadata": {
    "interpreter": {
     "hash": "b10adc8b4b24ff954d99c62f6bf1e45e0f3a936f77a846b176af4c6827cb0e64"
    }
   }
  }
 },
 "nbformat": 4,
 "nbformat_minor": 2,
 "cells": [
  {
   "cell_type": "code",
   "execution_count": 1,
   "metadata": {},
   "outputs": [],
   "source": [
    "from tensorflow import keras\n",
    "from tensorflow.keras import layers\n",
    "from tensorflow.config import list_physical_devices\n",
    "from tensorflow.image import ResizeMethod\n",
    "from tensorflow.image import resize_with_pad\n",
    "\n",
    "import utils"
   ]
  },
  {
   "cell_type": "code",
   "execution_count": 2,
   "metadata": {},
   "outputs": [
    {
     "output_type": "execute_result",
     "data": {
      "text/plain": [
       "[PhysicalDevice(name='/physical_device:GPU:0', device_type='GPU')]"
      ]
     },
     "metadata": {},
     "execution_count": 2
    }
   ],
   "source": [
    "list_physical_devices('GPU')"
   ]
  },
  {
   "cell_type": "code",
   "execution_count": 3,
   "metadata": {},
   "outputs": [],
   "source": [
    "trainX, trainY, testX, testY = utils.load_dataset()"
   ]
  },
  {
   "cell_type": "code",
   "execution_count": 4,
   "metadata": {},
   "outputs": [
    {
     "output_type": "execute_result",
     "data": {
      "text/plain": [
       "(50000, 32, 32, 3)"
      ]
     },
     "metadata": {},
     "execution_count": 4
    }
   ],
   "source": [
    "trainX.shape"
   ]
  },
  {
   "cell_type": "code",
   "execution_count": 5,
   "metadata": {},
   "outputs": [],
   "source": [
    "def transfer_densenet():\n",
    "    inputs = keras.Input(shape=(32,32,3))\n",
    "    upscale = keras.layers.Lambda(lambda x: resize_with_pad(x, 160, 160, method=ResizeMethod.BILINEAR))(inputs)\n",
    "\n",
    "\n",
    "    base_model = keras.applications.DenseNet121(include_top=False, weights='imagenet', input_tensor=upscale, pooling='max')\n",
    "    base_model.trainable=False\n",
    "    \n",
    "    x = base_model.output\n",
    "\n",
    "    x = layers.Flatten()(x)\n",
    "    x = keras.layers.BatchNormalization()(x)\n",
    "    \n",
    "    x = keras.layers.Dense(256, activation='relu')(x)\n",
    "    x = keras.layers.Dropout(0.3)(x)\n",
    "    x = keras.layers.BatchNormalization()(x)\n",
    "    \n",
    "    x = keras.layers.Dense(128, activation='relu')(x)\n",
    "    x = keras.layers.Dropout(0.3)(x)\n",
    "    x = keras.layers.BatchNormalization()(x)\n",
    "    \n",
    "    x = keras.layers.Dense(64, activation='relu')(x)\n",
    "    x = keras.layers.Dropout(0.3)(x)\n",
    "\n",
    "    outputs = layers.Dense(10, activation='softmax')(x)\n",
    "    \n",
    "    model = keras.Model(inputs=inputs, outputs=outputs, name=\"transfer_densenet\")\n",
    "    model.compile(optimizer='Adam', loss='categorical_crossentropy', metrics=['categorical_accuracy', keras.metrics.AUC()])\n",
    "    return model"
   ]
  },
  {
   "cell_type": "code",
   "execution_count": 6,
   "metadata": {},
   "outputs": [],
   "source": [
    "callback = keras.callbacks.ModelCheckpoint('models/transfer_densenet', monitor='val_loss', save_best_only=True)"
   ]
  },
  {
   "cell_type": "code",
   "execution_count": 7,
   "metadata": {
    "tags": []
   },
   "outputs": [
    {
     "output_type": "stream",
     "name": "stdout",
     "text": [
      "Epoch 1/50\n",
      "98/98 [==============================] - 307s 2s/step - loss: 1.5841 - categorical_accuracy: 0.4686 - auc: 0.8372 - val_loss: 0.7041 - val_categorical_accuracy: 0.7636 - val_auc: 0.9708\n",
      "INFO:tensorflow:Assets written to: models/transfer_resnet/assets\n",
      "Epoch 2/50\n",
      "98/98 [==============================] - 25s 256ms/step - loss: 0.7222 - categorical_accuracy: 0.7579 - auc: 0.9688 - val_loss: 0.5830 - val_categorical_accuracy: 0.8018 - val_auc: 0.9796\n",
      "INFO:tensorflow:Assets written to: models/transfer_resnet/assets\n",
      "Epoch 3/50\n",
      "98/98 [==============================] - 25s 256ms/step - loss: 0.6011 - categorical_accuracy: 0.8012 - auc: 0.9776 - val_loss: 0.5361 - val_categorical_accuracy: 0.8204 - val_auc: 0.9826\n",
      "INFO:tensorflow:Assets written to: models/transfer_resnet/assets\n",
      "Epoch 4/50\n",
      "98/98 [==============================] - 25s 258ms/step - loss: 0.5419 - categorical_accuracy: 0.8220 - auc: 0.9814 - val_loss: 0.5125 - val_categorical_accuracy: 0.8272 - val_auc: 0.9840\n",
      "INFO:tensorflow:Assets written to: models/transfer_resnet/assets\n",
      "Epoch 5/50\n",
      "98/98 [==============================] - 25s 256ms/step - loss: 0.4879 - categorical_accuracy: 0.8391 - auc: 0.9848 - val_loss: 0.5009 - val_categorical_accuracy: 0.8311 - val_auc: 0.9841\n",
      "INFO:tensorflow:Assets written to: models/transfer_resnet/assets\n",
      "Epoch 6/50\n",
      "98/98 [==============================] - 25s 256ms/step - loss: 0.4505 - categorical_accuracy: 0.8511 - auc: 0.9867 - val_loss: 0.4822 - val_categorical_accuracy: 0.8409 - val_auc: 0.9847\n",
      "INFO:tensorflow:Assets written to: models/transfer_resnet/assets\n",
      "Epoch 7/50\n",
      "98/98 [==============================] - 25s 256ms/step - loss: 0.4091 - categorical_accuracy: 0.8642 - auc: 0.9886 - val_loss: 0.4763 - val_categorical_accuracy: 0.8412 - val_auc: 0.9849\n",
      "INFO:tensorflow:Assets written to: models/transfer_resnet/assets\n",
      "Epoch 8/50\n",
      "98/98 [==============================] - 25s 257ms/step - loss: 0.3791 - categorical_accuracy: 0.8741 - auc: 0.9903 - val_loss: 0.4862 - val_categorical_accuracy: 0.8413 - val_auc: 0.9837\n",
      "Epoch 9/50\n",
      "98/98 [==============================] - 25s 260ms/step - loss: 0.3605 - categorical_accuracy: 0.8811 - auc: 0.9908 - val_loss: 0.4898 - val_categorical_accuracy: 0.8392 - val_auc: 0.9834\n",
      "Epoch 10/50\n",
      "98/98 [==============================] - 25s 257ms/step - loss: 0.3289 - categorical_accuracy: 0.8904 - auc: 0.9923 - val_loss: 0.4865 - val_categorical_accuracy: 0.8453 - val_auc: 0.9832\n",
      "Epoch 11/50\n",
      "98/98 [==============================] - 25s 255ms/step - loss: 0.2985 - categorical_accuracy: 0.8991 - auc: 0.9937 - val_loss: 0.5004 - val_categorical_accuracy: 0.8448 - val_auc: 0.9827\n",
      "Epoch 12/50\n",
      "98/98 [==============================] - 25s 257ms/step - loss: 0.2745 - categorical_accuracy: 0.9087 - auc: 0.9943 - val_loss: 0.5128 - val_categorical_accuracy: 0.8423 - val_auc: 0.9816\n",
      "Epoch 13/50\n",
      "98/98 [==============================] - 26s 261ms/step - loss: 0.2644 - categorical_accuracy: 0.9112 - auc: 0.9947 - val_loss: 0.5192 - val_categorical_accuracy: 0.8426 - val_auc: 0.9809\n",
      "Epoch 14/50\n",
      "98/98 [==============================] - 25s 258ms/step - loss: 0.2414 - categorical_accuracy: 0.9203 - auc: 0.9954 - val_loss: 0.5284 - val_categorical_accuracy: 0.8432 - val_auc: 0.9802\n",
      "Epoch 15/50\n",
      "98/98 [==============================] - 25s 256ms/step - loss: 0.2293 - categorical_accuracy: 0.9236 - auc: 0.9956 - val_loss: 0.5408 - val_categorical_accuracy: 0.8460 - val_auc: 0.9794\n",
      "Epoch 16/50\n",
      "98/98 [==============================] - 25s 258ms/step - loss: 0.2134 - categorical_accuracy: 0.9301 - auc: 0.9962 - val_loss: 0.5408 - val_categorical_accuracy: 0.8420 - val_auc: 0.9794\n",
      "Epoch 17/50\n",
      "98/98 [==============================] - 25s 261ms/step - loss: 0.2009 - categorical_accuracy: 0.9352 - auc: 0.9963 - val_loss: 0.5457 - val_categorical_accuracy: 0.8485 - val_auc: 0.9778\n",
      "Epoch 18/50\n",
      "98/98 [==============================] - 25s 259ms/step - loss: 0.1871 - categorical_accuracy: 0.9373 - auc: 0.9967 - val_loss: 0.5697 - val_categorical_accuracy: 0.8445 - val_auc: 0.9771\n",
      "Epoch 19/50\n",
      "98/98 [==============================] - 25s 256ms/step - loss: 0.1708 - categorical_accuracy: 0.9438 - auc: 0.9972 - val_loss: 0.5738 - val_categorical_accuracy: 0.8427 - val_auc: 0.9771\n",
      "Epoch 20/50\n",
      "98/98 [==============================] - 25s 256ms/step - loss: 0.1642 - categorical_accuracy: 0.9449 - auc: 0.9976 - val_loss: 0.5949 - val_categorical_accuracy: 0.8459 - val_auc: 0.9744\n",
      "Epoch 21/50\n",
      "98/98 [==============================] - 25s 257ms/step - loss: 0.1611 - categorical_accuracy: 0.9452 - auc: 0.9974 - val_loss: 0.5923 - val_categorical_accuracy: 0.8416 - val_auc: 0.9753\n",
      "Epoch 22/50\n",
      "98/98 [==============================] - 25s 259ms/step - loss: 0.1517 - categorical_accuracy: 0.9500 - auc: 0.9978 - val_loss: 0.6012 - val_categorical_accuracy: 0.8425 - val_auc: 0.9746\n",
      "Epoch 23/50\n",
      "98/98 [==============================] - 26s 261ms/step - loss: 0.1441 - categorical_accuracy: 0.9518 - auc: 0.9978 - val_loss: 0.6199 - val_categorical_accuracy: 0.8419 - val_auc: 0.9729\n",
      "Epoch 24/50\n",
      "98/98 [==============================] - 26s 262ms/step - loss: 0.1401 - categorical_accuracy: 0.9548 - auc: 0.9981 - val_loss: 0.6111 - val_categorical_accuracy: 0.8441 - val_auc: 0.9736\n",
      "Epoch 25/50\n",
      "98/98 [==============================] - 26s 262ms/step - loss: 0.1303 - categorical_accuracy: 0.9568 - auc: 0.9983 - val_loss: 0.6389 - val_categorical_accuracy: 0.8408 - val_auc: 0.9719\n",
      "Epoch 26/50\n",
      "98/98 [==============================] - 25s 261ms/step - loss: 0.1275 - categorical_accuracy: 0.9581 - auc: 0.9982 - val_loss: 0.6477 - val_categorical_accuracy: 0.8448 - val_auc: 0.9716\n",
      "Epoch 27/50\n",
      "98/98 [==============================] - 25s 251ms/step - loss: 0.1185 - categorical_accuracy: 0.9611 - auc: 0.9984 - val_loss: 0.6555 - val_categorical_accuracy: 0.8442 - val_auc: 0.9710\n",
      "Epoch 28/50\n",
      "98/98 [==============================] - 20s 205ms/step - loss: 0.1198 - categorical_accuracy: 0.9596 - auc: 0.9984 - val_loss: 0.6659 - val_categorical_accuracy: 0.8414 - val_auc: 0.9700\n",
      "Epoch 29/50\n",
      "98/98 [==============================] - 20s 205ms/step - loss: 0.1137 - categorical_accuracy: 0.9619 - auc: 0.9985 - val_loss: 0.6488 - val_categorical_accuracy: 0.8411 - val_auc: 0.9721\n",
      "Epoch 30/50\n",
      "98/98 [==============================] - 20s 205ms/step - loss: 0.1059 - categorical_accuracy: 0.9652 - auc: 0.9987 - val_loss: 0.6776 - val_categorical_accuracy: 0.8416 - val_auc: 0.9701\n",
      "Epoch 31/50\n",
      "98/98 [==============================] - 20s 205ms/step - loss: 0.1089 - categorical_accuracy: 0.9640 - auc: 0.9985 - val_loss: 0.6602 - val_categorical_accuracy: 0.8450 - val_auc: 0.9709\n",
      "Epoch 32/50\n",
      "98/98 [==============================] - 20s 205ms/step - loss: 0.1006 - categorical_accuracy: 0.9673 - auc: 0.9987 - val_loss: 0.6961 - val_categorical_accuracy: 0.8392 - val_auc: 0.9674\n",
      "Epoch 33/50\n",
      "98/98 [==============================] - 20s 205ms/step - loss: 0.1024 - categorical_accuracy: 0.9658 - auc: 0.9986 - val_loss: 0.6810 - val_categorical_accuracy: 0.8464 - val_auc: 0.9687\n",
      "Epoch 34/50\n",
      "98/98 [==============================] - 20s 205ms/step - loss: 0.0974 - categorical_accuracy: 0.9680 - auc: 0.9987 - val_loss: 0.6813 - val_categorical_accuracy: 0.8480 - val_auc: 0.9679\n",
      "Epoch 35/50\n",
      "98/98 [==============================] - 20s 205ms/step - loss: 0.0880 - categorical_accuracy: 0.9710 - auc: 0.9991 - val_loss: 0.7055 - val_categorical_accuracy: 0.8402 - val_auc: 0.9669\n",
      "Epoch 36/50\n",
      "98/98 [==============================] - 21s 212ms/step - loss: 0.0938 - categorical_accuracy: 0.9701 - auc: 0.9986 - val_loss: 0.6936 - val_categorical_accuracy: 0.8427 - val_auc: 0.9687\n",
      "Epoch 37/50\n",
      "98/98 [==============================] - 26s 267ms/step - loss: 0.0864 - categorical_accuracy: 0.9730 - auc: 0.9989 - val_loss: 0.7069 - val_categorical_accuracy: 0.8451 - val_auc: 0.9667\n",
      "Epoch 38/50\n",
      "98/98 [==============================] - 26s 262ms/step - loss: 0.0831 - categorical_accuracy: 0.9729 - auc: 0.9991 - val_loss: 0.7287 - val_categorical_accuracy: 0.8422 - val_auc: 0.9661\n",
      "Epoch 39/50\n",
      "98/98 [==============================] - 26s 262ms/step - loss: 0.0844 - categorical_accuracy: 0.9734 - auc: 0.9986 - val_loss: 0.7010 - val_categorical_accuracy: 0.8421 - val_auc: 0.9682\n",
      "Epoch 40/50\n",
      "98/98 [==============================] - 25s 260ms/step - loss: 0.0839 - categorical_accuracy: 0.9715 - auc: 0.9991 - val_loss: 0.7159 - val_categorical_accuracy: 0.8427 - val_auc: 0.9672\n",
      "Epoch 41/50\n",
      "98/98 [==============================] - 25s 258ms/step - loss: 0.0771 - categorical_accuracy: 0.9748 - auc: 0.9990 - val_loss: 0.7342 - val_categorical_accuracy: 0.8410 - val_auc: 0.9659\n",
      "Epoch 42/50\n",
      "98/98 [==============================] - 25s 256ms/step - loss: 0.0786 - categorical_accuracy: 0.9745 - auc: 0.9991 - val_loss: 0.7363 - val_categorical_accuracy: 0.8428 - val_auc: 0.9659\n",
      "Epoch 43/50\n",
      "98/98 [==============================] - 25s 256ms/step - loss: 0.0754 - categorical_accuracy: 0.9738 - auc: 0.9991 - val_loss: 0.7226 - val_categorical_accuracy: 0.8428 - val_auc: 0.9663\n",
      "Epoch 44/50\n",
      "98/98 [==============================] - 25s 255ms/step - loss: 0.0751 - categorical_accuracy: 0.9753 - auc: 0.9991 - val_loss: 0.7628 - val_categorical_accuracy: 0.8378 - val_auc: 0.9646\n",
      "Epoch 45/50\n",
      "98/98 [==============================] - 25s 254ms/step - loss: 0.0744 - categorical_accuracy: 0.9757 - auc: 0.9990 - val_loss: 0.7456 - val_categorical_accuracy: 0.8458 - val_auc: 0.9639\n",
      "Epoch 46/50\n",
      "98/98 [==============================] - 25s 258ms/step - loss: 0.0774 - categorical_accuracy: 0.9762 - auc: 0.9989 - val_loss: 0.7382 - val_categorical_accuracy: 0.8447 - val_auc: 0.9646\n",
      "Epoch 47/50\n",
      "98/98 [==============================] - 25s 259ms/step - loss: 0.0773 - categorical_accuracy: 0.9750 - auc: 0.9988 - val_loss: 0.7452 - val_categorical_accuracy: 0.8456 - val_auc: 0.9644\n",
      "Epoch 48/50\n",
      "98/98 [==============================] - 25s 259ms/step - loss: 0.0751 - categorical_accuracy: 0.9751 - auc: 0.9989 - val_loss: 0.7495 - val_categorical_accuracy: 0.8437 - val_auc: 0.9644\n",
      "Epoch 49/50\n",
      "98/98 [==============================] - 26s 261ms/step - loss: 0.0654 - categorical_accuracy: 0.9795 - auc: 0.9991 - val_loss: 0.7592 - val_categorical_accuracy: 0.8461 - val_auc: 0.9639\n",
      "Epoch 50/50\n",
      "98/98 [==============================] - 23s 231ms/step - loss: 0.0650 - categorical_accuracy: 0.9789 - auc: 0.9991 - val_loss: 0.7797 - val_categorical_accuracy: 0.8442 - val_auc: 0.9626\n"
     ]
    }
   ],
   "source": [
    "model = transfer_densenet()\n",
    "history = model.fit(x=trainX, y=trainY, batch_size=512, epochs=50, callbacks=callback, validation_data=(testX, testY))"
   ]
  },
  {
   "cell_type": "code",
   "execution_count": 8,
   "metadata": {},
   "outputs": [],
   "source": [
    "best_model = keras.models.load_model('models/transfer_densenet')"
   ]
  },
  {
   "cell_type": "code",
   "execution_count": 9,
   "metadata": {},
   "outputs": [
    {
     "output_type": "stream",
     "name": "stdout",
     "text": [
      "313/313 [==============================] - 278s 454ms/step - loss: 0.4763 - categorical_accuracy: 0.8411 - auc: 0.9849\n"
     ]
    },
    {
     "output_type": "execute_result",
     "data": {
      "text/plain": [
       "[0.47633862495422363, 0.8410999774932861, 0.9849041700363159]"
      ]
     },
     "metadata": {},
     "execution_count": 9
    }
   ],
   "source": [
    "best_model.evaluate(x=testX, y=testY)"
   ]
  },
  {
   "cell_type": "code",
   "execution_count": null,
   "metadata": {},
   "outputs": [],
   "source": [
    "#architecture: https://medium.com/swlh/hands-on-the-cifar-10-dataset-with-transfer-learning-2e768fd6c318"
   ]
  }
 ]
}